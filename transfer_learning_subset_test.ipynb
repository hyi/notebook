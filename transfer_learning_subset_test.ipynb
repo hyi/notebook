{
 "cells": [
  {
   "cell_type": "code",
   "execution_count": 1,
   "metadata": {},
   "outputs": [],
   "source": [
    "import time\n",
    "import numpy as np\n",
    "import tensorflow as tf\n",
    "from tensorflow import keras\n",
    "import matplotlib.pyplot as plt\n",
    "from tf_explain.core.activations import ExtractActivations\n",
    "from tensorflow.keras.applications.xception import decode_predictions\n",
    "from tensorflow.keras.callbacks import TensorBoard\n",
    "from tensorflow.keras.preprocessing.image import ImageDataGenerator\n",
    "from sklearn.metrics import classification_report, confusion_matrix\n",
    "%matplotlib inline\n",
    "%load_ext tensorboard"
   ]
  },
  {
   "cell_type": "code",
   "execution_count": 2,
   "metadata": {},
   "outputs": [
    {
     "name": "stdout",
     "output_type": "stream",
     "text": [
      "2 Physical GPU, 2 Logical GPUs\n"
     ]
    }
   ],
   "source": [
    "tf.config.experimental.set_memory_growth = True\n",
    "gpus = tf.config.experimental.list_physical_devices('GPU')\n",
    "if len(gpus) == 2:\n",
    "  try:\n",
    "    tf.config.experimental.set_virtual_device_configuration(\n",
    "        gpus[0],\n",
    "        [tf.config.experimental.VirtualDeviceConfiguration(memory_limit=1024*30)])\n",
    "    tf.config.experimental.set_virtual_device_configuration(\n",
    "        gpus[1],\n",
    "        [tf.config.experimental.VirtualDeviceConfiguration(memory_limit=1024*30)])\n",
    "    logical_gpus = tf.config.experimental.list_logical_devices('GPU')\n",
    "    print(len(gpus), \"Physical GPU,\", len(logical_gpus), \"Logical GPUs\")\n",
    "  except RuntimeError as e:\n",
    "    # Virtual devices must be set before GPUs have been initialized\n",
    "    print(e)\n",
    "        "
   ]
  },
  {
   "cell_type": "code",
   "execution_count": 3,
   "metadata": {},
   "outputs": [],
   "source": [
    "from tensorflow.keras.callbacks import ModelCheckpoint, EarlyStopping, ReduceLROnPlateau\n",
    "\n",
    "tensorboard = TensorBoard(log_dir=\"logs/{}\".format(time.time()))\n",
    " \n",
    "filepath = 'subset_fine_tune_model_sigmoid.h5'\n",
    "checkpoint = ModelCheckpoint(filepath, monitor='val_loss', verbose=1,save_best_only=True,save_weights_only=False, mode='auto',save_freq=1)\n",
    "earlystop = EarlyStopping(monitor='binary_accuracy', patience=1)\n",
    "reduce = ReduceLROnPlateau(monitor='val_loss', factor=0.1, patience=8)\n",
    "callbacks_list = [earlystop, reduce, checkpoint, tensorboard]"
   ]
  },
  {
   "cell_type": "code",
   "execution_count": 4,
   "metadata": {},
   "outputs": [
    {
     "name": "stdout",
     "output_type": "stream",
     "text": [
      "Found 6000 images belonging to 2 classes.\n"
     ]
    }
   ],
   "source": [
    "batch_size = 128\n",
    "\n",
    "# All images will be rescaled by 1./255\n",
    "datagen = ImageDataGenerator(rescale=1/255)\n",
    "# load and iterate training dataset in batches of 128 using datagen generator\n",
    "train_generator = datagen.flow_from_directory(\n",
    "        '/projects/ncdot/2018/machine_learning/subset_data/train',  # This is the source directory for training images\n",
    "        target_size=(299, 299),  # All images will be resized to 299 x 299\n",
    "        batch_size=batch_size,\n",
    "        # Specify the classes explicitly\n",
    "        classes = ['guardrail_no','guardrail_yes'],\n",
    "        class_mode='binary', shuffle=True)"
   ]
  },
  {
   "cell_type": "code",
   "execution_count": 5,
   "metadata": {},
   "outputs": [
    {
     "name": "stdout",
     "output_type": "stream",
     "text": [
      "Found 2000 images belonging to 2 classes.\n",
      "Found 2000 images belonging to 2 classes.\n"
     ]
    }
   ],
   "source": [
    "# load and iterate validation dataset\n",
    "validation_generator = datagen.flow_from_directory('/projects/ncdot/2018/machine_learning/subset_data/validation', \n",
    "                                                   target_size=(299, 299), \n",
    "                                                   class_mode='binary', \n",
    "                                                   classes = ['guardrail_no','guardrail_yes'], \n",
    "                                                   batch_size=batch_size, shuffle=False)\n",
    "# load and iterate test dataset in batches of 128 using datagen generator\n",
    "test_generator = datagen.flow_from_directory('/projects/ncdot/2018/machine_learning/subset_data/test', \n",
    "                                             target_size=(299, 299), \n",
    "                                             classes = ['guardrail_no','guardrail_yes'], \n",
    "                                             class_mode='binary', batch_size=batch_size, shuffle=False)"
   ]
  },
  {
   "cell_type": "code",
   "execution_count": 6,
   "metadata": {},
   "outputs": [
    {
     "name": "stdout",
     "output_type": "stream",
     "text": [
      "INFO:tensorflow:Using MirroredStrategy with devices ('/job:localhost/replica:0/task:0/device:GPU:0', '/job:localhost/replica:0/task:0/device:GPU:1')\n",
      "INFO:tensorflow:Reduce to /job:localhost/replica:0/task:0/device:CPU:0 then broadcast to ('/job:localhost/replica:0/task:0/device:CPU:0',).\n",
      "INFO:tensorflow:Reduce to /job:localhost/replica:0/task:0/device:CPU:0 then broadcast to ('/job:localhost/replica:0/task:0/device:CPU:0',).\n",
      "INFO:tensorflow:Reduce to /job:localhost/replica:0/task:0/device:CPU:0 then broadcast to ('/job:localhost/replica:0/task:0/device:CPU:0',).\n",
      "INFO:tensorflow:Reduce to /job:localhost/replica:0/task:0/device:CPU:0 then broadcast to ('/job:localhost/replica:0/task:0/device:CPU:0',).\n",
      "INFO:tensorflow:Reduce to /job:localhost/replica:0/task:0/device:CPU:0 then broadcast to ('/job:localhost/replica:0/task:0/device:CPU:0',).\n",
      "INFO:tensorflow:Reduce to /job:localhost/replica:0/task:0/device:CPU:0 then broadcast to ('/job:localhost/replica:0/task:0/device:CPU:0',).\n",
      "INFO:tensorflow:Reduce to /job:localhost/replica:0/task:0/device:CPU:0 then broadcast to ('/job:localhost/replica:0/task:0/device:CPU:0',).\n",
      "INFO:tensorflow:Reduce to /job:localhost/replica:0/task:0/device:CPU:0 then broadcast to ('/job:localhost/replica:0/task:0/device:CPU:0',).\n",
      "INFO:tensorflow:Reduce to /job:localhost/replica:0/task:0/device:CPU:0 then broadcast to ('/job:localhost/replica:0/task:0/device:CPU:0',).\n",
      "INFO:tensorflow:Reduce to /job:localhost/replica:0/task:0/device:CPU:0 then broadcast to ('/job:localhost/replica:0/task:0/device:CPU:0',).\n",
      "Epoch 1/4\n",
      "INFO:tensorflow:batch_all_reduce: 2 all-reduces with algorithm = nccl, num_packs = 1\n",
      "INFO:tensorflow:batch_all_reduce: 2 all-reduces with algorithm = nccl, num_packs = 1\n",
      "WARNING:tensorflow:Can save best model only with val_loss available, skipping.\n",
      " 1/46 [..............................] - ETA: 0s - binary_accuracy: 0.4062 - loss: 0.7787WARNING:tensorflow:Can save best model only with val_loss available, skipping.\n",
      " 2/46 [>.............................] - ETA: 2:33 - binary_accuracy: 0.4648 - loss: 0.7574WARNING:tensorflow:Can save best model only with val_loss available, skipping.\n",
      " 3/46 [>.............................] - ETA: 4:20 - binary_accuracy: 0.4896 - loss: 0.7389WARNING:tensorflow:Can save best model only with val_loss available, skipping.\n",
      " 4/46 [=>............................] - ETA: 5:07 - binary_accuracy: 0.4805 - loss: 0.7321WARNING:tensorflow:Can save best model only with val_loss available, skipping.\n",
      " 5/46 [==>...........................] - ETA: 5:32 - binary_accuracy: 0.4906 - loss: 0.7287WARNING:tensorflow:Can save best model only with val_loss available, skipping.\n",
      " 6/46 [==>...........................] - ETA: 5:44 - binary_accuracy: 0.4948 - loss: 0.7232WARNING:tensorflow:Can save best model only with val_loss available, skipping.\n",
      " 7/46 [===>..........................] - ETA: 5:50 - binary_accuracy: 0.4933 - loss: 0.7181WARNING:tensorflow:Can save best model only with val_loss available, skipping.\n",
      " 8/46 [====>.........................] - ETA: 5:51 - binary_accuracy: 0.5049 - loss: 0.7177WARNING:tensorflow:Can save best model only with val_loss available, skipping.\n",
      " 9/46 [====>.........................] - ETA: 5:50 - binary_accuracy: 0.5061 - loss: 0.7148WARNING:tensorflow:Can save best model only with val_loss available, skipping.\n",
      "10/46 [=====>........................] - ETA: 5:47 - binary_accuracy: 0.5070 - loss: 0.7115WARNING:tensorflow:Can save best model only with val_loss available, skipping.\n",
      "11/46 [======>.......................] - ETA: 5:43 - binary_accuracy: 0.5050 - loss: 0.7075WARNING:tensorflow:Can save best model only with val_loss available, skipping.\n",
      "12/46 [======>.......................] - ETA: 5:36 - binary_accuracy: 0.5052 - loss: 0.7049WARNING:tensorflow:Can save best model only with val_loss available, skipping.\n",
      "13/46 [=======>......................] - ETA: 5:30 - binary_accuracy: 0.5048 - loss: 0.7022WARNING:tensorflow:Can save best model only with val_loss available, skipping.\n",
      "14/46 [========>.....................] - ETA: 5:23 - binary_accuracy: 0.5022 - loss: 0.6987WARNING:tensorflow:Can save best model only with val_loss available, skipping.\n",
      "15/46 [========>.....................] - ETA: 5:14 - binary_accuracy: 0.5036 - loss: 0.6973WARNING:tensorflow:Can save best model only with val_loss available, skipping.\n",
      "16/46 [=========>....................] - ETA: 5:05 - binary_accuracy: 0.5024 - loss: 0.6950WARNING:tensorflow:Can save best model only with val_loss available, skipping.\n",
      "17/46 [==========>...................] - ETA: 4:57 - binary_accuracy: 0.5005 - loss: 0.6921WARNING:tensorflow:Can save best model only with val_loss available, skipping.\n",
      "18/46 [==========>...................] - ETA: 4:47 - binary_accuracy: 0.5017 - loss: 0.6898WARNING:tensorflow:Can save best model only with val_loss available, skipping.\n",
      "19/46 [===========>..................] - ETA: 4:38 - binary_accuracy: 0.5033 - loss: 0.6874WARNING:tensorflow:Can save best model only with val_loss available, skipping.\n",
      "20/46 [============>.................] - ETA: 4:29 - binary_accuracy: 0.5023 - loss: 0.6842WARNING:tensorflow:Can save best model only with val_loss available, skipping.\n",
      "21/46 [============>.................] - ETA: 4:20 - binary_accuracy: 0.5093 - loss: 0.6834WARNING:tensorflow:Can save best model only with val_loss available, skipping.\n",
      "22/46 [=============>................] - ETA: 4:10 - binary_accuracy: 0.5178 - loss: 0.6822WARNING:tensorflow:Can save best model only with val_loss available, skipping.\n",
      "23/46 [==============>...............] - ETA: 4:01 - binary_accuracy: 0.5231 - loss: 0.6806WARNING:tensorflow:Can save best model only with val_loss available, skipping.\n",
      "24/46 [==============>...............] - ETA: 3:51 - binary_accuracy: 0.5309 - loss: 0.6790WARNING:tensorflow:Can save best model only with val_loss available, skipping.\n",
      "25/46 [===============>..............] - ETA: 3:41 - binary_accuracy: 0.5369 - loss: 0.6770WARNING:tensorflow:Can save best model only with val_loss available, skipping.\n",
      "26/46 [===============>..............] - ETA: 3:31 - binary_accuracy: 0.5415 - loss: 0.6744WARNING:tensorflow:Can save best model only with val_loss available, skipping.\n",
      "27/46 [================>.............] - ETA: 3:21 - binary_accuracy: 0.5475 - loss: 0.6725WARNING:tensorflow:Can save best model only with val_loss available, skipping.\n",
      "28/46 [=================>............] - ETA: 3:11 - binary_accuracy: 0.5566 - loss: 0.6711WARNING:tensorflow:Can save best model only with val_loss available, skipping.\n",
      "29/46 [=================>............] - ETA: 3:01 - binary_accuracy: 0.5649 - loss: 0.6696WARNING:tensorflow:Can save best model only with val_loss available, skipping.\n",
      "30/46 [==================>...........] - ETA: 2:50 - binary_accuracy: 0.5719 - loss: 0.6676WARNING:tensorflow:Can save best model only with val_loss available, skipping.\n",
      "31/46 [===================>..........] - ETA: 2:40 - binary_accuracy: 0.5811 - loss: 0.6658WARNING:tensorflow:Can save best model only with val_loss available, skipping.\n",
      "32/46 [===================>..........] - ETA: 2:29 - binary_accuracy: 0.5891 - loss: 0.6645WARNING:tensorflow:Can save best model only with val_loss available, skipping.\n",
      "33/46 [====================>.........] - ETA: 2:19 - binary_accuracy: 0.5959 - loss: 0.6634WARNING:tensorflow:Can save best model only with val_loss available, skipping.\n",
      "34/46 [=====================>........] - ETA: 2:09 - binary_accuracy: 0.6011 - loss: 0.6616WARNING:tensorflow:Can save best model only with val_loss available, skipping.\n",
      "35/46 [=====================>........] - ETA: 1:58 - binary_accuracy: 0.6087 - loss: 0.6605WARNING:tensorflow:Can save best model only with val_loss available, skipping.\n",
      "36/46 [======================>.......] - ETA: 1:47 - binary_accuracy: 0.6152 - loss: 0.6584WARNING:tensorflow:Can save best model only with val_loss available, skipping.\n",
      "37/46 [=======================>......] - ETA: 1:37 - binary_accuracy: 0.6223 - loss: 0.6572WARNING:tensorflow:Can save best model only with val_loss available, skipping.\n",
      "38/46 [=======================>......] - ETA: 1:26 - binary_accuracy: 0.6283 - loss: 0.6559WARNING:tensorflow:Can save best model only with val_loss available, skipping.\n"
     ]
    },
    {
     "name": "stdout",
     "output_type": "stream",
     "text": [
      "39/46 [========================>.....] - ETA: 1:15 - binary_accuracy: 0.6352 - loss: 0.6548WARNING:tensorflow:Can save best model only with val_loss available, skipping.\n",
      "40/46 [=========================>....] - ETA: 1:04 - binary_accuracy: 0.6420 - loss: 0.6532WARNING:tensorflow:Can save best model only with val_loss available, skipping.\n",
      "41/46 [=========================>....] - ETA: 54s - binary_accuracy: 0.6477 - loss: 0.6524 WARNING:tensorflow:Can save best model only with val_loss available, skipping.\n",
      "42/46 [==========================>...] - ETA: 43s - binary_accuracy: 0.6540 - loss: 0.6513WARNING:tensorflow:Can save best model only with val_loss available, skipping.\n",
      "43/46 [===========================>..] - ETA: 32s - binary_accuracy: 0.6599 - loss: 0.6499WARNING:tensorflow:Can save best model only with val_loss available, skipping.\n",
      "44/46 [===========================>..] - ETA: 21s - binary_accuracy: 0.6650 - loss: 0.6494WARNING:tensorflow:Can save best model only with val_loss available, skipping.\n",
      "45/46 [============================>.] - ETA: 10s - binary_accuracy: 0.6696 - loss: 0.6476WARNING:tensorflow:Can save best model only with val_loss available, skipping.\n",
      "46/46 [==============================] - 717s 16s/step - binary_accuracy: 0.6741 - loss: 0.6469 - val_binary_accuracy: 0.8792 - val_loss: 0.6022 - lr: 0.0010\n",
      "Epoch 2/4\n",
      "WARNING:tensorflow:Can save best model only with val_loss available, skipping.\n",
      " 1/46 [..............................] - ETA: 0s - binary_accuracy: 0.9107 - loss: 0.6046WARNING:tensorflow:Can save best model only with val_loss available, skipping.\n",
      " 2/46 [>.............................] - ETA: 3s - binary_accuracy: 0.8750 - loss: 0.5903WARNING:tensorflow:Can save best model only with val_loss available, skipping.\n",
      " 3/46 [>.............................] - ETA: 4s - binary_accuracy: 0.8750 - loss: 0.5930WARNING:tensorflow:Can save best model only with val_loss available, skipping.\n",
      " 4/46 [=>............................] - ETA: 5s - binary_accuracy: 0.8690 - loss: 0.5962WARNING:tensorflow:Can save best model only with val_loss available, skipping.\n",
      " 5/46 [==>...........................] - ETA: 1:23 - binary_accuracy: 0.8750 - loss: 0.5953WARNING:tensorflow:Can save best model only with val_loss available, skipping.\n",
      " 6/46 [==>...........................] - ETA: 2:24 - binary_accuracy: 0.8684 - loss: 0.5946WARNING:tensorflow:Can save best model only with val_loss available, skipping.\n",
      " 7/46 [===>..........................] - ETA: 3:06 - binary_accuracy: 0.8705 - loss: 0.5932WARNING:tensorflow:Can save best model only with val_loss available, skipping.\n",
      " 8/46 [====>.........................] - ETA: 3:34 - binary_accuracy: 0.8770 - loss: 0.5922WARNING:tensorflow:Can save best model only with val_loss available, skipping.\n",
      " 9/46 [====>.........................] - ETA: 3:50 - binary_accuracy: 0.8759 - loss: 0.5916WARNING:tensorflow:Can save best model only with val_loss available, skipping.\n",
      "10/46 [=====>........................] - ETA: 4:04 - binary_accuracy: 0.8758 - loss: 0.5904WARNING:tensorflow:Can save best model only with val_loss available, skipping.\n",
      "11/46 [======>.......................] - ETA: 4:11 - binary_accuracy: 0.8764 - loss: 0.5898WARNING:tensorflow:Can save best model only with val_loss available, skipping.\n",
      "12/46 [======>.......................] - ETA: 4:15 - binary_accuracy: 0.8776 - loss: 0.5876WARNING:tensorflow:Can save best model only with val_loss available, skipping.\n",
      "13/46 [=======>......................] - ETA: 4:15 - binary_accuracy: 0.8792 - loss: 0.5843WARNING:tensorflow:Can save best model only with val_loss available, skipping.\n",
      "14/46 [========>.....................] - ETA: 4:15 - binary_accuracy: 0.8784 - loss: 0.5854WARNING:tensorflow:Can save best model only with val_loss available, skipping.\n",
      "15/46 [========>.....................] - ETA: 4:13 - binary_accuracy: 0.8813 - loss: 0.5861WARNING:tensorflow:Can save best model only with val_loss available, skipping.\n",
      "16/46 [=========>....................] - ETA: 4:12 - binary_accuracy: 0.8868 - loss: 0.5867WARNING:tensorflow:Can save best model only with val_loss available, skipping.\n",
      "17/46 [==========>...................] - ETA: 4:09 - binary_accuracy: 0.8884 - loss: 0.5861WARNING:tensorflow:Can save best model only with val_loss available, skipping.\n",
      "18/46 [==========>...................] - ETA: 4:04 - binary_accuracy: 0.8885 - loss: 0.5858WARNING:tensorflow:Can save best model only with val_loss available, skipping.\n",
      "19/46 [===========>..................] - ETA: 3:58 - binary_accuracy: 0.8874 - loss: 0.5852WARNING:tensorflow:Can save best model only with val_loss available, skipping.\n",
      "20/46 [============>.................] - ETA: 3:52 - binary_accuracy: 0.8907 - loss: 0.5834WARNING:tensorflow:Can save best model only with val_loss available, skipping.\n",
      "21/46 [============>.................] - ETA: 3:45 - binary_accuracy: 0.8911 - loss: 0.5824WARNING:tensorflow:Can save best model only with val_loss available, skipping.\n",
      "22/46 [=============>................] - ETA: 3:39 - binary_accuracy: 0.8950 - loss: 0.5806WARNING:tensorflow:Can save best model only with val_loss available, skipping.\n",
      "23/46 [==============>...............] - ETA: 3:33 - binary_accuracy: 0.8948 - loss: 0.5809WARNING:tensorflow:Can save best model only with val_loss available, skipping.\n",
      "24/46 [==============>...............] - ETA: 3:25 - binary_accuracy: 0.8966 - loss: 0.5801WARNING:tensorflow:Can save best model only with val_loss available, skipping.\n",
      "25/46 [===============>..............] - ETA: 3:17 - binary_accuracy: 0.8970 - loss: 0.5794WARNING:tensorflow:Can save best model only with val_loss available, skipping.\n",
      "26/46 [===============>..............] - ETA: 3:09 - binary_accuracy: 0.8998 - loss: 0.5785WARNING:tensorflow:Can save best model only with val_loss available, skipping.\n",
      "27/46 [================>.............] - ETA: 3:00 - binary_accuracy: 0.8997 - loss: 0.5785WARNING:tensorflow:Can save best model only with val_loss available, skipping.\n",
      "28/46 [=================>............] - ETA: 2:52 - binary_accuracy: 0.9025 - loss: 0.5785WARNING:tensorflow:Can save best model only with val_loss available, skipping.\n",
      "29/46 [=================>............] - ETA: 2:43 - binary_accuracy: 0.9034 - loss: 0.5784WARNING:tensorflow:Can save best model only with val_loss available, skipping.\n",
      "30/46 [==================>...........] - ETA: 2:35 - binary_accuracy: 0.9046 - loss: 0.5778WARNING:tensorflow:Can save best model only with val_loss available, skipping.\n",
      "31/46 [===================>..........] - ETA: 2:26 - binary_accuracy: 0.9036 - loss: 0.5771WARNING:tensorflow:Can save best model only with val_loss available, skipping.\n",
      "32/46 [===================>..........] - ETA: 2:17 - binary_accuracy: 0.9051 - loss: 0.5775WARNING:tensorflow:Can save best model only with val_loss available, skipping.\n",
      "33/46 [====================>.........] - ETA: 2:07 - binary_accuracy: 0.9061 - loss: 0.5776WARNING:tensorflow:Can save best model only with val_loss available, skipping.\n",
      "34/46 [=====================>........] - ETA: 1:58 - binary_accuracy: 0.9071 - loss: 0.5768WARNING:tensorflow:Can save best model only with val_loss available, skipping.\n",
      "35/46 [=====================>........] - ETA: 1:49 - binary_accuracy: 0.9075 - loss: 0.5762WARNING:tensorflow:Can save best model only with val_loss available, skipping.\n",
      "36/46 [======================>.......] - ETA: 1:39 - binary_accuracy: 0.9085 - loss: 0.5765WARNING:tensorflow:Can save best model only with val_loss available, skipping.\n",
      "37/46 [=======================>......] - ETA: 1:29 - binary_accuracy: 0.9097 - loss: 0.5757WARNING:tensorflow:Can save best model only with val_loss available, skipping.\n",
      "38/46 [=======================>......] - ETA: 1:20 - binary_accuracy: 0.9105 - loss: 0.5748WARNING:tensorflow:Can save best model only with val_loss available, skipping.\n",
      "39/46 [========================>.....] - ETA: 1:10 - binary_accuracy: 0.9114 - loss: 0.5740WARNING:tensorflow:Can save best model only with val_loss available, skipping.\n",
      "40/46 [=========================>....] - ETA: 1:00 - binary_accuracy: 0.9114 - loss: 0.5739WARNING:tensorflow:Can save best model only with val_loss available, skipping.\n"
     ]
    },
    {
     "name": "stdout",
     "output_type": "stream",
     "text": [
      "41/46 [=========================>....] - ETA: 50s - binary_accuracy: 0.9134 - loss: 0.5732 WARNING:tensorflow:Can save best model only with val_loss available, skipping.\n",
      "42/46 [==========================>...] - ETA: 40s - binary_accuracy: 0.9147 - loss: 0.5727WARNING:tensorflow:Can save best model only with val_loss available, skipping.\n",
      "43/46 [===========================>..] - ETA: 30s - binary_accuracy: 0.9156 - loss: 0.5726WARNING:tensorflow:Can save best model only with val_loss available, skipping.\n",
      "44/46 [===========================>..] - ETA: 20s - binary_accuracy: 0.9163 - loss: 0.5724WARNING:tensorflow:Can save best model only with val_loss available, skipping.\n",
      "45/46 [============================>.] - ETA: 10s - binary_accuracy: 0.9166 - loss: 0.5727WARNING:tensorflow:Can save best model only with val_loss available, skipping.\n",
      "46/46 [==============================] - 681s 15s/step - binary_accuracy: 0.9176 - loss: 0.5728 - val_binary_accuracy: 0.9386 - val_loss: 0.5478 - lr: 0.0010\n",
      "Epoch 3/4\n",
      "WARNING:tensorflow:Can save best model only with val_loss available, skipping.\n",
      " 1/46 [..............................] - ETA: 0s - binary_accuracy: 0.9531 - loss: 0.5648WARNING:tensorflow:Can save best model only with val_loss available, skipping.\n",
      " 2/46 [>.............................] - ETA: 7s - binary_accuracy: 0.9417 - loss: 0.5696WARNING:tensorflow:Can save best model only with val_loss available, skipping.\n",
      " 3/46 [>.............................] - ETA: 9s - binary_accuracy: 0.9375 - loss: 0.5661WARNING:tensorflow:Can save best model only with val_loss available, skipping.\n",
      " 4/46 [=>............................] - ETA: 8s - binary_accuracy: 0.9456 - loss: 0.5703WARNING:tensorflow:Can save best model only with val_loss available, skipping.\n",
      " 5/46 [==>...........................] - ETA: 1:27 - binary_accuracy: 0.9455 - loss: 0.5696WARNING:tensorflow:Can save best model only with val_loss available, skipping.\n",
      " 6/46 [==>...........................] - ETA: 2:22 - binary_accuracy: 0.9428 - loss: 0.5671WARNING:tensorflow:Can save best model only with val_loss available, skipping.\n",
      " 7/46 [===>..........................] - ETA: 2:57 - binary_accuracy: 0.9443 - loss: 0.5684WARNING:tensorflow:Can save best model only with val_loss available, skipping.\n",
      " 8/46 [====>.........................] - ETA: 3:21 - binary_accuracy: 0.9444 - loss: 0.5651WARNING:tensorflow:Can save best model only with val_loss available, skipping.\n",
      " 9/46 [====>.........................] - ETA: 3:40 - binary_accuracy: 0.9472 - loss: 0.5677WARNING:tensorflow:Can save best model only with val_loss available, skipping.\n",
      "10/46 [=====>........................] - ETA: 3:51 - binary_accuracy: 0.9478 - loss: 0.5669WARNING:tensorflow:Can save best model only with val_loss available, skipping.\n",
      "11/46 [======>.......................] - ETA: 4:00 - binary_accuracy: 0.9447 - loss: 0.5655WARNING:tensorflow:Can save best model only with val_loss available, skipping.\n",
      "12/46 [======>.......................] - ETA: 4:04 - binary_accuracy: 0.9441 - loss: 0.5652WARNING:tensorflow:Can save best model only with val_loss available, skipping.\n",
      "13/46 [=======>......................] - ETA: 4:05 - binary_accuracy: 0.9472 - loss: 0.5632WARNING:tensorflow:Can save best model only with val_loss available, skipping.\n",
      "14/46 [========>.....................] - ETA: 4:04 - binary_accuracy: 0.9482 - loss: 0.5620WARNING:tensorflow:Can save best model only with val_loss available, skipping.\n",
      "15/46 [========>.....................] - ETA: 4:04 - binary_accuracy: 0.9485 - loss: 0.5614WARNING:tensorflow:Can save best model only with val_loss available, skipping.\n",
      "16/46 [=========>....................] - ETA: 4:01 - binary_accuracy: 0.9478 - loss: 0.5608WARNING:tensorflow:Can save best model only with val_loss available, skipping.\n",
      "17/46 [==========>...................] - ETA: 3:57 - binary_accuracy: 0.9481 - loss: 0.5598WARNING:tensorflow:Can save best model only with val_loss available, skipping.\n",
      "18/46 [==========>...................] - ETA: 3:53 - binary_accuracy: 0.9484 - loss: 0.5600WARNING:tensorflow:Can save best model only with val_loss available, skipping.\n",
      "19/46 [===========>..................] - ETA: 3:48 - binary_accuracy: 0.9478 - loss: 0.5598WARNING:tensorflow:Can save best model only with val_loss available, skipping.\n",
      "20/46 [============>.................] - ETA: 3:42 - binary_accuracy: 0.9477 - loss: 0.5595WARNING:tensorflow:Can save best model only with val_loss available, skipping.\n",
      "21/46 [============>.................] - ETA: 3:36 - binary_accuracy: 0.9487 - loss: 0.5588WARNING:tensorflow:Can save best model only with val_loss available, skipping.\n",
      "22/46 [=============>................] - ETA: 3:29 - binary_accuracy: 0.9489 - loss: 0.5590WARNING:tensorflow:Can save best model only with val_loss available, skipping.\n",
      "23/46 [==============>...............] - ETA: 3:23 - binary_accuracy: 0.9491 - loss: 0.5580WARNING:tensorflow:Can save best model only with val_loss available, skipping.\n",
      "24/46 [==============>...............] - ETA: 3:17 - binary_accuracy: 0.9486 - loss: 0.5588WARNING:tensorflow:Can save best model only with val_loss available, skipping.\n",
      "25/46 [===============>..............] - ETA: 3:09 - binary_accuracy: 0.9488 - loss: 0.5573WARNING:tensorflow:Can save best model only with val_loss available, skipping.\n",
      "26/46 [===============>..............] - ETA: 3:02 - binary_accuracy: 0.9496 - loss: 0.5570WARNING:tensorflow:Can save best model only with val_loss available, skipping.\n",
      "27/46 [================>.............] - ETA: 2:54 - binary_accuracy: 0.9506 - loss: 0.5572WARNING:tensorflow:Can save best model only with val_loss available, skipping.\n",
      "28/46 [=================>............] - ETA: 2:46 - binary_accuracy: 0.9515 - loss: 0.5564WARNING:tensorflow:Can save best model only with val_loss available, skipping.\n",
      "29/46 [=================>............] - ETA: 2:38 - binary_accuracy: 0.9521 - loss: 0.5562WARNING:tensorflow:Can save best model only with val_loss available, skipping.\n",
      "30/46 [==================>...........] - ETA: 2:29 - binary_accuracy: 0.9527 - loss: 0.5547WARNING:tensorflow:Can save best model only with val_loss available, skipping.\n",
      "31/46 [===================>..........] - ETA: 2:20 - binary_accuracy: 0.9537 - loss: 0.5541WARNING:tensorflow:Can save best model only with val_loss available, skipping.\n",
      "32/46 [===================>..........] - ETA: 2:11 - binary_accuracy: 0.9534 - loss: 0.5532WARNING:tensorflow:Can save best model only with val_loss available, skipping.\n",
      "33/46 [====================>.........] - ETA: 2:02 - binary_accuracy: 0.9539 - loss: 0.5533WARNING:tensorflow:Can save best model only with val_loss available, skipping.\n",
      "34/46 [=====================>........] - ETA: 1:53 - binary_accuracy: 0.9534 - loss: 0.5530WARNING:tensorflow:Can save best model only with val_loss available, skipping.\n",
      "35/46 [=====================>........] - ETA: 1:44 - binary_accuracy: 0.9534 - loss: 0.5523WARNING:tensorflow:Can save best model only with val_loss available, skipping.\n",
      "36/46 [======================>.......] - ETA: 1:35 - binary_accuracy: 0.9541 - loss: 0.5526WARNING:tensorflow:Can save best model only with val_loss available, skipping.\n",
      "37/46 [=======================>......] - ETA: 1:26 - binary_accuracy: 0.9549 - loss: 0.5519WARNING:tensorflow:Can save best model only with val_loss available, skipping.\n",
      "38/46 [=======================>......] - ETA: 1:16 - binary_accuracy: 0.9554 - loss: 0.5519WARNING:tensorflow:Can save best model only with val_loss available, skipping.\n",
      "39/46 [========================>.....] - ETA: 1:07 - binary_accuracy: 0.9554 - loss: 0.5517WARNING:tensorflow:Can save best model only with val_loss available, skipping.\n",
      "40/46 [=========================>....] - ETA: 57s - binary_accuracy: 0.9555 - loss: 0.5518 WARNING:tensorflow:Can save best model only with val_loss available, skipping.\n",
      "41/46 [=========================>....] - ETA: 48s - binary_accuracy: 0.9553 - loss: 0.5518WARNING:tensorflow:Can save best model only with val_loss available, skipping.\n",
      "42/46 [==========================>...] - ETA: 38s - binary_accuracy: 0.9554 - loss: 0.5509WARNING:tensorflow:Can save best model only with val_loss available, skipping.\n"
     ]
    },
    {
     "name": "stdout",
     "output_type": "stream",
     "text": [
      "43/46 [===========================>..] - ETA: 29s - binary_accuracy: 0.9559 - loss: 0.5507WARNING:tensorflow:Can save best model only with val_loss available, skipping.\n",
      "44/46 [===========================>..] - ETA: 19s - binary_accuracy: 0.9564 - loss: 0.5505WARNING:tensorflow:Can save best model only with val_loss available, skipping.\n",
      "45/46 [============================>.] - ETA: 9s - binary_accuracy: 0.9565 - loss: 0.5500 WARNING:tensorflow:Can save best model only with val_loss available, skipping.\n",
      "46/46 [==============================] - 644s 14s/step - binary_accuracy: 0.9567 - loss: 0.5494 - val_binary_accuracy: 0.9610 - val_loss: 0.5311 - lr: 0.0010\n",
      "Epoch 4/4\n",
      "WARNING:tensorflow:Can save best model only with val_loss available, skipping.\n",
      " 1/46 [..............................] - ETA: 0s - binary_accuracy: 0.9766 - loss: 0.5387WARNING:tensorflow:Can save best model only with val_loss available, skipping.\n",
      " 2/46 [>.............................] - ETA: 7s - binary_accuracy: 0.9688 - loss: 0.5421WARNING:tensorflow:Can save best model only with val_loss available, skipping.\n",
      " 3/46 [>.............................] - ETA: 9s - binary_accuracy: 0.9674 - loss: 0.5371WARNING:tensorflow:Can save best model only with val_loss available, skipping.\n",
      " 4/46 [=>............................] - ETA: 8s - binary_accuracy: 0.9617 - loss: 0.5398WARNING:tensorflow:Can save best model only with val_loss available, skipping.\n",
      " 5/46 [==>...........................] - ETA: 1:25 - binary_accuracy: 0.9615 - loss: 0.5361WARNING:tensorflow:Can save best model only with val_loss available, skipping.\n",
      " 6/46 [==>...........................] - ETA: 2:19 - binary_accuracy: 0.9628 - loss: 0.5362WARNING:tensorflow:Can save best model only with val_loss available, skipping.\n",
      " 7/46 [===>..........................] - ETA: 2:54 - binary_accuracy: 0.9648 - loss: 0.5329WARNING:tensorflow:Can save best model only with val_loss available, skipping.\n",
      " 8/46 [====>.........................] - ETA: 3:17 - binary_accuracy: 0.9673 - loss: 0.5292WARNING:tensorflow:Can save best model only with val_loss available, skipping.\n",
      " 9/46 [====>.........................] - ETA: 3:36 - binary_accuracy: 0.9692 - loss: 0.5277WARNING:tensorflow:Can save best model only with val_loss available, skipping.\n",
      "10/46 [=====>........................] - ETA: 3:47 - binary_accuracy: 0.9707 - loss: 0.5280WARNING:tensorflow:Can save best model only with val_loss available, skipping.\n",
      "11/46 [======>.......................] - ETA: 3:54 - binary_accuracy: 0.9713 - loss: 0.5319WARNING:tensorflow:Can save best model only with val_loss available, skipping.\n",
      "12/46 [======>.......................] - ETA: 3:59 - binary_accuracy: 0.9704 - loss: 0.5327WARNING:tensorflow:Can save best model only with val_loss available, skipping.\n",
      "13/46 [=======>......................] - ETA: 4:00 - binary_accuracy: 0.9721 - loss: 0.5327WARNING:tensorflow:Can save best model only with val_loss available, skipping.\n",
      "14/46 [========>.....................] - ETA: 4:00 - binary_accuracy: 0.9713 - loss: 0.5317WARNING:tensorflow:Can save best model only with val_loss available, skipping.\n",
      "15/46 [========>.....................] - ETA: 3:58 - binary_accuracy: 0.9722 - loss: 0.5322WARNING:tensorflow:Can save best model only with val_loss available, skipping.\n",
      "16/46 [=========>....................] - ETA: 3:57 - binary_accuracy: 0.9719 - loss: 0.5325WARNING:tensorflow:Can save best model only with val_loss available, skipping.\n",
      "17/46 [==========>...................] - ETA: 3:55 - binary_accuracy: 0.9722 - loss: 0.5334WARNING:tensorflow:Can save best model only with val_loss available, skipping.\n",
      "18/46 [==========>...................] - ETA: 3:51 - binary_accuracy: 0.9729 - loss: 0.5326WARNING:tensorflow:Can save best model only with val_loss available, skipping.\n",
      "19/46 [===========>..................] - ETA: 3:46 - binary_accuracy: 0.9739 - loss: 0.5315WARNING:tensorflow:Can save best model only with val_loss available, skipping.\n",
      "20/46 [============>.................] - ETA: 3:40 - binary_accuracy: 0.9737 - loss: 0.5314WARNING:tensorflow:Can save best model only with val_loss available, skipping.\n",
      "21/46 [============>.................] - ETA: 3:34 - binary_accuracy: 0.9746 - loss: 0.5323WARNING:tensorflow:Can save best model only with val_loss available, skipping.\n",
      "22/46 [=============>................] - ETA: 3:28 - binary_accuracy: 0.9750 - loss: 0.5331WARNING:tensorflow:Can save best model only with val_loss available, skipping.\n",
      "23/46 [==============>...............] - ETA: 3:21 - binary_accuracy: 0.9751 - loss: 0.5328WARNING:tensorflow:Can save best model only with val_loss available, skipping.\n",
      "24/46 [==============>...............] - ETA: 3:14 - binary_accuracy: 0.9748 - loss: 0.5326WARNING:tensorflow:Can save best model only with val_loss available, skipping.\n",
      "25/46 [===============>..............] - ETA: 3:06 - binary_accuracy: 0.9742 - loss: 0.5322WARNING:tensorflow:Can save best model only with val_loss available, skipping.\n",
      "26/46 [===============>..............] - ETA: 2:59 - binary_accuracy: 0.9734 - loss: 0.5328WARNING:tensorflow:Can save best model only with val_loss available, skipping.\n",
      "27/46 [================>.............] - ETA: 2:51 - binary_accuracy: 0.9735 - loss: 0.5327WARNING:tensorflow:Can save best model only with val_loss available, skipping.\n",
      "28/46 [=================>............] - ETA: 2:43 - binary_accuracy: 0.9737 - loss: 0.5330WARNING:tensorflow:Can save best model only with val_loss available, skipping.\n",
      "29/46 [=================>............] - ETA: 2:35 - binary_accuracy: 0.9743 - loss: 0.5341WARNING:tensorflow:Can save best model only with val_loss available, skipping.\n",
      "30/46 [==================>...........] - ETA: 2:27 - binary_accuracy: 0.9744 - loss: 0.5349WARNING:tensorflow:Can save best model only with val_loss available, skipping.\n",
      "31/46 [===================>..........] - ETA: 2:19 - binary_accuracy: 0.9747 - loss: 0.5351WARNING:tensorflow:Can save best model only with val_loss available, skipping.\n",
      "32/46 [===================>..........] - ETA: 2:10 - binary_accuracy: 0.9748 - loss: 0.5351WARNING:tensorflow:Can save best model only with val_loss available, skipping.\n",
      "33/46 [====================>.........] - ETA: 2:01 - binary_accuracy: 0.9743 - loss: 0.5357WARNING:tensorflow:Can save best model only with val_loss available, skipping.\n",
      "34/46 [=====================>........] - ETA: 1:52 - binary_accuracy: 0.9739 - loss: 0.5355WARNING:tensorflow:Can save best model only with val_loss available, skipping.\n",
      "35/46 [=====================>........] - ETA: 1:43 - binary_accuracy: 0.9742 - loss: 0.5350WARNING:tensorflow:Can save best model only with val_loss available, skipping.\n",
      "36/46 [======================>.......] - ETA: 1:34 - binary_accuracy: 0.9750 - loss: 0.5353WARNING:tensorflow:Can save best model only with val_loss available, skipping.\n",
      "37/46 [=======================>......] - ETA: 1:25 - binary_accuracy: 0.9752 - loss: 0.5356WARNING:tensorflow:Can save best model only with val_loss available, skipping.\n",
      "38/46 [=======================>......] - ETA: 1:16 - binary_accuracy: 0.9755 - loss: 0.5362WARNING:tensorflow:Can save best model only with val_loss available, skipping.\n",
      "39/46 [========================>.....] - ETA: 1:06 - binary_accuracy: 0.9743 - loss: 0.5370WARNING:tensorflow:Can save best model only with val_loss available, skipping.\n",
      "40/46 [=========================>....] - ETA: 57s - binary_accuracy: 0.9745 - loss: 0.5365 WARNING:tensorflow:Can save best model only with val_loss available, skipping.\n",
      "41/46 [=========================>....] - ETA: 48s - binary_accuracy: 0.9748 - loss: 0.5362WARNING:tensorflow:Can save best model only with val_loss available, skipping.\n",
      "42/46 [==========================>...] - ETA: 38s - binary_accuracy: 0.9750 - loss: 0.5363WARNING:tensorflow:Can save best model only with val_loss available, skipping.\n",
      "43/46 [===========================>..] - ETA: 28s - binary_accuracy: 0.9750 - loss: 0.5369WARNING:tensorflow:Can save best model only with val_loss available, skipping.\n",
      "44/46 [===========================>..] - ETA: 19s - binary_accuracy: 0.9747 - loss: 0.5361WARNING:tensorflow:Can save best model only with val_loss available, skipping.\n"
     ]
    },
    {
     "name": "stdout",
     "output_type": "stream",
     "text": [
      "45/46 [============================>.] - ETA: 9s - binary_accuracy: 0.9748 - loss: 0.5360 WARNING:tensorflow:Can save best model only with val_loss available, skipping.\n",
      "46/46 [==============================] - 648s 14s/step - binary_accuracy: 0.9748 - loss: 0.5357 - val_binary_accuracy: 0.9722 - val_loss: 0.5265 - lr: 0.0010\n",
      "time taken for model fit: 2714.531963825226\n"
     ]
    }
   ],
   "source": [
    "strategy = tf.distribute.MirroredStrategy()\n",
    "with strategy.scope():\n",
    "    base_model=keras.applications.Xception(weights='imagenet',include_top=False)\n",
    "    base_model.trainable = False\n",
    "    inputs = keras.Input(shape=(299, 299, 3))\n",
    "    # make sure that the base_model is running in inference mode by passing `training=False`. \n",
    "    # This is important for fine-tuning\n",
    "    x = base_model(inputs, training=False)\n",
    "    # add a mini network on top of the base model\n",
    "    # Convert features of shape `base_model.output_shape[1:]` to vectors\n",
    "    x = keras.layers.GlobalAveragePooling2D()(x)\n",
    "    x = keras.layers.Dropout(0.25)(x)\n",
    "    # A Dense classifier with a single unit (binary classification)\n",
    "    outputs = keras.layers.Dense(1, activation='sigmoid')(x)\n",
    "    model = keras.Model(inputs, outputs)\n",
    "    # print(model.summary())\n",
    "    model.compile(optimizer=keras.optimizers.Adam(),\n",
    "                  loss=keras.losses.BinaryCrossentropy(from_logits=True),\n",
    "                  metrics=[keras.metrics.BinaryAccuracy()])\n",
    "    ts = time.time()\n",
    "    history = model.fit(train_generator, epochs=4, callbacks = callbacks_list, steps_per_epoch=int(6000/batch_size),\n",
    "              validation_data = validation_generator, validation_steps=int(2000/batch_size))\n",
    "    te = time.time()\n",
    "    print('time taken for model fit:', te-ts)"
   ]
  },
  {
   "cell_type": "code",
   "execution_count": 7,
   "metadata": {},
   "outputs": [
    {
     "name": "stdout",
     "output_type": "stream",
     "text": [
      "{'binary_accuracy': [0.67408287525177, 0.917574942111969, 0.9567438960075378, 0.9747956395149231], 'loss': [0.6468856930732727, 0.572752058506012, 0.5494182705879211, 0.5356625318527222], 'val_binary_accuracy': [0.8791666626930237, 0.9385683536529541, 0.9610042572021484, 0.9722222089767456], 'val_loss': [0.6021981835365295, 0.5478187203407288, 0.5311211943626404, 0.5265144109725952], 'lr': [0.001, 0.001, 0.001, 0.001]}\n"
     ]
    }
   ],
   "source": [
    "print(history.history)"
   ]
  },
  {
   "cell_type": "code",
   "execution_count": 8,
   "metadata": {},
   "outputs": [
    {
     "data": {
      "image/png": "[encoded data removed]",
      "text/plain": [
       "<Figure size 504x288 with 1 Axes>"
      ]
     },
     "metadata": {
      "needs_background": "light"
     },
     "output_type": "display_data"
    }
   ],
   "source": [
    "plt.figure(figsize=(7,4))\n",
    "plt.plot([i+1 for i in range(len(history.history['binary_accuracy']))], history.history['binary_accuracy'],'-o',c='k',lw=2,markersize=9)\n",
    "plt.grid(True)\n",
    "plt.title(\"Training accuracy with epochs\\n\",fontsize=18)\n",
    "plt.xlabel(\"Training epochs\",fontsize=15)\n",
    "plt.ylabel(\"Training accuracy\",fontsize=15)\n",
    "plt.xticks(fontsize=15)\n",
    "plt.yticks(fontsize=15)\n",
    "plt.show()"
   ]
  },
  {
   "cell_type": "code",
   "execution_count": 9,
   "metadata": {},
   "outputs": [
    {
     "data": {
      "image/png": "[encoded data removed]",
      "text/plain": [
       "<Figure size 432x288 with 1 Axes>"
      ]
     },
     "metadata": {
      "needs_background": "light"
     },
     "output_type": "display_data"
    }
   ],
   "source": [
    "plt.plot(history.history['binary_accuracy'])\n",
    "plt.plot(history.history['val_binary_accuracy'])\n",
    "plt.title('model accuracy')\n",
    "plt.ylabel('accuracy')\n",
    "plt.xlabel('epoch')\n",
    "plt.legend(['train', 'test'], loc='upper left')\n",
    "plt.show()\n"
   ]
  },
  {
   "cell_type": "code",
   "execution_count": 10,
   "metadata": {},
   "outputs": [
    {
     "data": {
      "image/png": "[encoded data removed]",
      "text/plain": [
       "<Figure size 432x288 with 1 Axes>"
      ]
     },
     "metadata": {
      "needs_background": "light"
     },
     "output_type": "display_data"
    }
   ],
   "source": [
    "# summarize history for loss\n",
    "plt.plot(history.history['loss'])\n",
    "plt.plot(history.history['val_loss'])\n",
    "plt.title('model loss')\n",
    "plt.ylabel('loss')\n",
    "plt.xlabel('epoch')\n",
    "plt.legend(['train', 'test'], loc='upper left')\n",
    "plt.show()"
   ]
  },
  {
   "cell_type": "code",
   "execution_count": 11,
   "metadata": {},
   "outputs": [],
   "source": [
    "#import os\n",
    "#PATH = os.getenv('PATH')\n",
    "#%env PATH=/var/opt/anaconda3/anaconda/envs/tf_gpu/bin:$PATH\n",
    "#%load_ext tensorboard\n",
    "#%tensorboard --logdir notebook/logs --host groucho.renci.org --port 6006"
   ]
  },
  {
   "cell_type": "code",
   "execution_count": 12,
   "metadata": {},
   "outputs": [
    {
     "name": "stdout",
     "output_type": "stream",
     "text": [
      "Epoch 1/10\n",
      "INFO:tensorflow:batch_all_reduce: 156 all-reduces with algorithm = nccl, num_packs = 1\n",
      "INFO:tensorflow:batch_all_reduce: 156 all-reduces with algorithm = nccl, num_packs = 1\n",
      "WARNING:tensorflow:Can save best model only with val_loss available, skipping.\n",
      " 1/46 [..............................] - ETA: 0s - binary_accuracy: 0.9844 - loss: 0.5114WARNING:tensorflow:Can save best model only with val_loss available, skipping.\n",
      " 2/46 [>.............................] - ETA: 4:08 - binary_accuracy: 0.9922 - loss: 0.5256WARNING:tensorflow:Can save best model only with val_loss available, skipping.\n",
      " 3/46 [>.............................] - ETA: 5:21 - binary_accuracy: 0.9870 - loss: 0.5270WARNING:tensorflow:Can save best model only with val_loss available, skipping.\n",
      " 4/46 [=>............................] - ETA: 5:53 - binary_accuracy: 0.9902 - loss: 0.5258WARNING:tensorflow:Can save best model only with val_loss available, skipping.\n",
      " 5/46 [==>...........................] - ETA: 6:06 - binary_accuracy: 0.9875 - loss: 0.5193WARNING:tensorflow:Can save best model only with val_loss available, skipping.\n",
      " 6/46 [==>...........................] - ETA: 6:09 - binary_accuracy: 0.9896 - loss: 0.5151WARNING:tensorflow:Can save best model only with val_loss available, skipping.\n",
      " 7/46 [===>..........................] - ETA: 6:08 - binary_accuracy: 0.9900 - loss: 0.5170WARNING:tensorflow:Can save best model only with val_loss available, skipping.\n",
      " 8/46 [====>.........................] - ETA: 6:06 - binary_accuracy: 0.9912 - loss: 0.5168WARNING:tensorflow:Can save best model only with val_loss available, skipping.\n",
      " 9/46 [====>.........................] - ETA: 6:02 - binary_accuracy: 0.9905 - loss: 0.5137WARNING:tensorflow:Can save best model only with val_loss available, skipping.\n",
      "10/46 [=====>........................] - ETA: 5:55 - binary_accuracy: 0.9914 - loss: 0.5135WARNING:tensorflow:Can save best model only with val_loss available, skipping.\n",
      "11/46 [======>.......................] - ETA: 5:49 - binary_accuracy: 0.9922 - loss: 0.5148WARNING:tensorflow:Can save best model only with val_loss available, skipping.\n",
      "12/46 [======>.......................] - ETA: 5:40 - binary_accuracy: 0.9928 - loss: 0.5155WARNING:tensorflow:Can save best model only with val_loss available, skipping.\n",
      "13/46 [=======>......................] - ETA: 5:32 - binary_accuracy: 0.9934 - loss: 0.5156WARNING:tensorflow:Can save best model only with val_loss available, skipping.\n",
      "14/46 [========>.....................] - ETA: 5:23 - binary_accuracy: 0.9939 - loss: 0.5126WARNING:tensorflow:Can save best model only with val_loss available, skipping.\n",
      "15/46 [========>.....................] - ETA: 5:14 - binary_accuracy: 0.9943 - loss: 0.5123WARNING:tensorflow:Can save best model only with val_loss available, skipping.\n",
      "16/46 [=========>....................] - ETA: 5:04 - binary_accuracy: 0.9946 - loss: 0.5126WARNING:tensorflow:Can save best model only with val_loss available, skipping.\n",
      "17/46 [==========>...................] - ETA: 4:54 - binary_accuracy: 0.9949 - loss: 0.5112WARNING:tensorflow:Can save best model only with val_loss available, skipping.\n",
      "18/46 [==========>...................] - ETA: 4:46 - binary_accuracy: 0.9952 - loss: 0.5115WARNING:tensorflow:Can save best model only with val_loss available, skipping.\n",
      "19/46 [===========>..................] - ETA: 4:36 - binary_accuracy: 0.9955 - loss: 0.5112WARNING:tensorflow:Can save best model only with val_loss available, skipping.\n",
      "20/46 [============>.................] - ETA: 4:26 - binary_accuracy: 0.9957 - loss: 0.5104WARNING:tensorflow:Can save best model only with val_loss available, skipping.\n",
      "21/46 [============>.................] - ETA: 4:16 - binary_accuracy: 0.9959 - loss: 0.5111WARNING:tensorflow:Can save best model only with val_loss available, skipping.\n",
      "22/46 [=============>................] - ETA: 4:06 - binary_accuracy: 0.9957 - loss: 0.5113WARNING:tensorflow:Can save best model only with val_loss available, skipping.\n",
      "23/46 [==============>...............] - ETA: 3:56 - binary_accuracy: 0.9959 - loss: 0.5114WARNING:tensorflow:Can save best model only with val_loss available, skipping.\n",
      "24/46 [==============>...............] - ETA: 3:46 - binary_accuracy: 0.9961 - loss: 0.5115WARNING:tensorflow:Can save best model only with val_loss available, skipping.\n",
      "25/46 [===============>..............] - ETA: 3:36 - binary_accuracy: 0.9962 - loss: 0.5111WARNING:tensorflow:Can save best model only with val_loss available, skipping.\n",
      "26/46 [===============>..............] - ETA: 3:26 - binary_accuracy: 0.9964 - loss: 0.5096WARNING:tensorflow:Can save best model only with val_loss available, skipping.\n",
      "27/46 [================>.............] - ETA: 3:16 - binary_accuracy: 0.9965 - loss: 0.5097WARNING:tensorflow:Can save best model only with val_loss available, skipping.\n",
      "28/46 [=================>............] - ETA: 3:06 - binary_accuracy: 0.9967 - loss: 0.5102WARNING:tensorflow:Can save best model only with val_loss available, skipping.\n",
      "29/46 [=================>............] - ETA: 2:56 - binary_accuracy: 0.9968 - loss: 0.5095WARNING:tensorflow:Can save best model only with val_loss available, skipping.\n",
      "30/46 [==================>...........] - ETA: 2:46 - binary_accuracy: 0.9969 - loss: 0.5095WARNING:tensorflow:Can save best model only with val_loss available, skipping.\n",
      "31/46 [===================>..........] - ETA: 2:36 - binary_accuracy: 0.9970 - loss: 0.5089WARNING:tensorflow:Can save best model only with val_loss available, skipping.\n",
      "32/46 [===================>..........] - ETA: 2:26 - binary_accuracy: 0.9971 - loss: 0.5079WARNING:tensorflow:Can save best model only with val_loss available, skipping.\n",
      "33/46 [====================>.........] - ETA: 2:15 - binary_accuracy: 0.9972 - loss: 0.5068WARNING:tensorflow:Can save best model only with val_loss available, skipping.\n",
      "34/46 [=====================>........] - ETA: 2:05 - binary_accuracy: 0.9972 - loss: 0.5066WARNING:tensorflow:Can save best model only with val_loss available, skipping.\n",
      "35/46 [=====================>........] - ETA: 1:55 - binary_accuracy: 0.9973 - loss: 0.5062WARNING:tensorflow:Can save best model only with val_loss available, skipping.\n",
      "36/46 [======================>.......] - ETA: 1:44 - binary_accuracy: 0.9974 - loss: 0.5061WARNING:tensorflow:Can save best model only with val_loss available, skipping.\n",
      "37/46 [=======================>......] - ETA: 1:34 - binary_accuracy: 0.9975 - loss: 0.5061WARNING:tensorflow:Can save best model only with val_loss available, skipping.\n",
      "38/46 [=======================>......] - ETA: 1:23 - binary_accuracy: 0.9975 - loss: 0.5068WARNING:tensorflow:Can save best model only with val_loss available, skipping.\n",
      "39/46 [========================>.....] - ETA: 1:13 - binary_accuracy: 0.9976 - loss: 0.5067WARNING:tensorflow:Can save best model only with val_loss available, skipping.\n",
      "40/46 [=========================>....] - ETA: 1:02 - binary_accuracy: 0.9977 - loss: 0.5064WARNING:tensorflow:Can save best model only with val_loss available, skipping.\n",
      "41/46 [=========================>....] - ETA: 52s - binary_accuracy: 0.9977 - loss: 0.5067 WARNING:tensorflow:Can save best model only with val_loss available, skipping.\n",
      "42/46 [==========================>...] - ETA: 41s - binary_accuracy: 0.9978 - loss: 0.5066WARNING:tensorflow:Can save best model only with val_loss available, skipping.\n",
      "43/46 [===========================>..] - ETA: 31s - binary_accuracy: 0.9978 - loss: 0.5059WARNING:tensorflow:Can save best model only with val_loss available, skipping.\n",
      "44/46 [===========================>..] - ETA: 20s - binary_accuracy: 0.9979 - loss: 0.5062WARNING:tensorflow:Can save best model only with val_loss available, skipping.\n",
      "45/46 [============================>.] - ETA: 10s - binary_accuracy: 0.9979 - loss: 0.5065WARNING:tensorflow:Can save best model only with val_loss available, skipping.\n",
      "46/46 [==============================] - 692s 15s/step - binary_accuracy: 0.9980 - loss: 0.5060 - val_binary_accuracy: 1.0000 - val_loss: 0.5163 - lr: 1.0000e-05\n",
      "Epoch 2/10\n",
      "WARNING:tensorflow:Can save best model only with val_loss available, skipping.\n",
      " 1/46 [..............................] - ETA: 0s - binary_accuracy: 1.0000 - loss: 0.5270WARNING:tensorflow:Can save best model only with val_loss available, skipping.\n",
      " 2/46 [>.............................] - ETA: 26s - binary_accuracy: 1.0000 - loss: 0.5111WARNING:tensorflow:Can save best model only with val_loss available, skipping.\n",
      " 3/46 [>.............................] - ETA: 33s - binary_accuracy: 1.0000 - loss: 0.4970WARNING:tensorflow:Can save best model only with val_loss available, skipping.\n",
      " 4/46 [=>............................] - ETA: 34s - binary_accuracy: 1.0000 - loss: 0.4941WARNING:tensorflow:Can save best model only with val_loss available, skipping.\n",
      " 5/46 [==>...........................] - ETA: 1:24 - binary_accuracy: 1.0000 - loss: 0.4966WARNING:tensorflow:Can save best model only with val_loss available, skipping.\n",
      " 6/46 [==>...........................] - ETA: 2:20 - binary_accuracy: 1.0000 - loss: 0.4947WARNING:tensorflow:Can save best model only with val_loss available, skipping.\n",
      " 7/46 [===>..........................] - ETA: 2:56 - binary_accuracy: 1.0000 - loss: 0.4972WARNING:tensorflow:Can save best model only with val_loss available, skipping.\n",
      " 8/46 [====>.........................] - ETA: 3:21 - binary_accuracy: 1.0000 - loss: 0.4999WARNING:tensorflow:Can save best model only with val_loss available, skipping.\n",
      " 9/46 [====>.........................] - ETA: 3:39 - binary_accuracy: 1.0000 - loss: 0.5016WARNING:tensorflow:Can save best model only with val_loss available, skipping.\n",
      "10/46 [=====>........................] - ETA: 3:49 - binary_accuracy: 1.0000 - loss: 0.5009WARNING:tensorflow:Can save best model only with val_loss available, skipping.\n",
      "11/46 [======>.......................] - ETA: 3:57 - binary_accuracy: 1.0000 - loss: 0.5005WARNING:tensorflow:Can save best model only with val_loss available, skipping.\n",
      "12/46 [======>.......................] - ETA: 4:01 - binary_accuracy: 1.0000 - loss: 0.5013WARNING:tensorflow:Can save best model only with val_loss available, skipping.\n",
      "13/46 [=======>......................] - ETA: 4:02 - binary_accuracy: 1.0000 - loss: 0.5030WARNING:tensorflow:Can save best model only with val_loss available, skipping.\n",
      "14/46 [========>.....................] - ETA: 4:04 - binary_accuracy: 1.0000 - loss: 0.5033WARNING:tensorflow:Can save best model only with val_loss available, skipping.\n",
      "15/46 [========>.....................] - ETA: 4:04 - binary_accuracy: 1.0000 - loss: 0.5037WARNING:tensorflow:Can save best model only with val_loss available, skipping.\n",
      "16/46 [=========>....................] - ETA: 4:02 - binary_accuracy: 1.0000 - loss: 0.5038WARNING:tensorflow:Can save best model only with val_loss available, skipping.\n",
      "17/46 [==========>...................] - ETA: 3:58 - binary_accuracy: 1.0000 - loss: 0.5043WARNING:tensorflow:Can save best model only with val_loss available, skipping.\n",
      "18/46 [==========>...................] - ETA: 3:54 - binary_accuracy: 1.0000 - loss: 0.5029WARNING:tensorflow:Can save best model only with val_loss available, skipping.\n",
      "19/46 [===========>..................] - ETA: 3:49 - binary_accuracy: 1.0000 - loss: 0.5026WARNING:tensorflow:Can save best model only with val_loss available, skipping.\n",
      "20/46 [============>.................] - ETA: 3:43 - binary_accuracy: 1.0000 - loss: 0.5040WARNING:tensorflow:Can save best model only with val_loss available, skipping.\n",
      "21/46 [============>.................] - ETA: 3:38 - binary_accuracy: 1.0000 - loss: 0.5048WARNING:tensorflow:Can save best model only with val_loss available, skipping.\n",
      "22/46 [=============>................] - ETA: 3:32 - binary_accuracy: 1.0000 - loss: 0.5038WARNING:tensorflow:Can save best model only with val_loss available, skipping.\n",
      "23/46 [==============>...............] - ETA: 3:25 - binary_accuracy: 1.0000 - loss: 0.5034WARNING:tensorflow:Can save best model only with val_loss available, skipping.\n",
      "24/46 [==============>...............] - ETA: 3:18 - binary_accuracy: 1.0000 - loss: 0.5037WARNING:tensorflow:Can save best model only with val_loss available, skipping.\n",
      "25/46 [===============>..............] - ETA: 3:10 - binary_accuracy: 1.0000 - loss: 0.5042WARNING:tensorflow:Can save best model only with val_loss available, skipping.\n",
      "26/46 [===============>..............] - ETA: 3:02 - binary_accuracy: 1.0000 - loss: 0.5031WARNING:tensorflow:Can save best model only with val_loss available, skipping.\n",
      "27/46 [================>.............] - ETA: 2:54 - binary_accuracy: 1.0000 - loss: 0.5027WARNING:tensorflow:Can save best model only with val_loss available, skipping.\n",
      "28/46 [=================>............] - ETA: 2:46 - binary_accuracy: 1.0000 - loss: 0.5026WARNING:tensorflow:Can save best model only with val_loss available, skipping.\n",
      "29/46 [=================>............] - ETA: 2:37 - binary_accuracy: 1.0000 - loss: 0.5026WARNING:tensorflow:Can save best model only with val_loss available, skipping.\n",
      "30/46 [==================>...........] - ETA: 2:29 - binary_accuracy: 1.0000 - loss: 0.5026WARNING:tensorflow:Can save best model only with val_loss available, skipping.\n",
      "31/46 [===================>..........] - ETA: 2:20 - binary_accuracy: 1.0000 - loss: 0.5024WARNING:tensorflow:Can save best model only with val_loss available, skipping.\n",
      "32/46 [===================>..........] - ETA: 2:12 - binary_accuracy: 1.0000 - loss: 0.5026WARNING:tensorflow:Can save best model only with val_loss available, skipping.\n",
      "33/46 [====================>.........] - ETA: 2:03 - binary_accuracy: 1.0000 - loss: 0.5023WARNING:tensorflow:Can save best model only with val_loss available, skipping.\n",
      "34/46 [=====================>........] - ETA: 1:54 - binary_accuracy: 1.0000 - loss: 0.5024WARNING:tensorflow:Can save best model only with val_loss available, skipping.\n",
      "35/46 [=====================>........] - ETA: 1:44 - binary_accuracy: 1.0000 - loss: 0.5027WARNING:tensorflow:Can save best model only with val_loss available, skipping.\n",
      "36/46 [======================>.......] - ETA: 1:35 - binary_accuracy: 1.0000 - loss: 0.5021WARNING:tensorflow:Can save best model only with val_loss available, skipping.\n",
      "37/46 [=======================>......] - ETA: 1:26 - binary_accuracy: 1.0000 - loss: 0.5028WARNING:tensorflow:Can save best model only with val_loss available, skipping.\n",
      "38/46 [=======================>......] - ETA: 1:17 - binary_accuracy: 1.0000 - loss: 0.5025WARNING:tensorflow:Can save best model only with val_loss available, skipping.\n",
      "39/46 [========================>.....] - ETA: 1:07 - binary_accuracy: 1.0000 - loss: 0.5029WARNING:tensorflow:Can save best model only with val_loss available, skipping.\n",
      "40/46 [=========================>....] - ETA: 58s - binary_accuracy: 1.0000 - loss: 0.5033 WARNING:tensorflow:Can save best model only with val_loss available, skipping.\n",
      "41/46 [=========================>....] - ETA: 48s - binary_accuracy: 1.0000 - loss: 0.5030WARNING:tensorflow:Can save best model only with val_loss available, skipping.\n",
      "42/46 [==========================>...] - ETA: 38s - binary_accuracy: 1.0000 - loss: 0.5033WARNING:tensorflow:Can save best model only with val_loss available, skipping.\n",
      "43/46 [===========================>..] - ETA: 29s - binary_accuracy: 1.0000 - loss: 0.5028WARNING:tensorflow:Can save best model only with val_loss available, skipping.\n",
      "44/46 [===========================>..] - ETA: 19s - binary_accuracy: 1.0000 - loss: 0.5034WARNING:tensorflow:Can save best model only with val_loss available, skipping.\n",
      "45/46 [============================>.] - ETA: 9s - binary_accuracy: 1.0000 - loss: 0.5032 WARNING:tensorflow:Can save best model only with val_loss available, skipping.\n",
      "46/46 [==============================] - 651s 14s/step - binary_accuracy: 1.0000 - loss: 0.5035 - val_binary_accuracy: 1.0000 - val_loss: 0.5162 - lr: 1.0000e-05\n",
      "Epoch 3/10\n",
      "WARNING:tensorflow:Can save best model only with val_loss available, skipping.\n",
      " 1/46 [..............................] - ETA: 0s - binary_accuracy: 1.0000 - loss: 0.4973WARNING:tensorflow:Can save best model only with val_loss available, skipping.\n",
      " 2/46 [>.............................] - ETA: 22s - binary_accuracy: 1.0000 - loss: 0.5080WARNING:tensorflow:Can save best model only with val_loss available, skipping.\n"
     ]
    },
    {
     "name": "stdout",
     "output_type": "stream",
     "text": [
      " 3/46 [>.............................] - ETA: 30s - binary_accuracy: 1.0000 - loss: 0.4981WARNING:tensorflow:Can save best model only with val_loss available, skipping.\n",
      " 4/46 [=>............................] - ETA: 32s - binary_accuracy: 1.0000 - loss: 0.4979WARNING:tensorflow:Can save best model only with val_loss available, skipping.\n",
      " 5/46 [==>...........................] - ETA: 1:25 - binary_accuracy: 1.0000 - loss: 0.4923WARNING:tensorflow:Can save best model only with val_loss available, skipping.\n",
      " 6/46 [==>...........................] - ETA: 2:20 - binary_accuracy: 1.0000 - loss: 0.4936WARNING:tensorflow:Can save best model only with val_loss available, skipping.\n",
      " 7/46 [===>..........................] - ETA: 2:55 - binary_accuracy: 1.0000 - loss: 0.4955WARNING:tensorflow:Can save best model only with val_loss available, skipping.\n",
      " 8/46 [====>.........................] - ETA: 3:19 - binary_accuracy: 1.0000 - loss: 0.4976WARNING:tensorflow:Can save best model only with val_loss available, skipping.\n",
      " 9/46 [====>.........................] - ETA: 3:36 - binary_accuracy: 1.0000 - loss: 0.4949WARNING:tensorflow:Can save best model only with val_loss available, skipping.\n",
      "10/46 [=====>........................] - ETA: 3:47 - binary_accuracy: 1.0000 - loss: 0.4984WARNING:tensorflow:Can save best model only with val_loss available, skipping.\n",
      "11/46 [======>.......................] - ETA: 3:54 - binary_accuracy: 1.0000 - loss: 0.4959WARNING:tensorflow:Can save best model only with val_loss available, skipping.\n",
      "12/46 [======>.......................] - ETA: 3:58 - binary_accuracy: 1.0000 - loss: 0.4972WARNING:tensorflow:Can save best model only with val_loss available, skipping.\n",
      "13/46 [=======>......................] - ETA: 4:00 - binary_accuracy: 1.0000 - loss: 0.4975WARNING:tensorflow:Can save best model only with val_loss available, skipping.\n",
      "14/46 [========>.....................] - ETA: 4:01 - binary_accuracy: 1.0000 - loss: 0.4970WARNING:tensorflow:Can save best model only with val_loss available, skipping.\n",
      "15/46 [========>.....................] - ETA: 3:59 - binary_accuracy: 1.0000 - loss: 0.4988WARNING:tensorflow:Can save best model only with val_loss available, skipping.\n",
      "16/46 [=========>....................] - ETA: 3:57 - binary_accuracy: 1.0000 - loss: 0.4999WARNING:tensorflow:Can save best model only with val_loss available, skipping.\n",
      "17/46 [==========>...................] - ETA: 3:53 - binary_accuracy: 1.0000 - loss: 0.5011WARNING:tensorflow:Can save best model only with val_loss available, skipping.\n",
      "18/46 [==========>...................] - ETA: 3:49 - binary_accuracy: 1.0000 - loss: 0.4997WARNING:tensorflow:Can save best model only with val_loss available, skipping.\n",
      "19/46 [===========>..................] - ETA: 3:44 - binary_accuracy: 1.0000 - loss: 0.5004WARNING:tensorflow:Can save best model only with val_loss available, skipping.\n",
      "20/46 [============>.................] - ETA: 3:38 - binary_accuracy: 1.0000 - loss: 0.5002WARNING:tensorflow:Can save best model only with val_loss available, skipping.\n",
      "21/46 [============>.................] - ETA: 3:34 - binary_accuracy: 1.0000 - loss: 0.5002WARNING:tensorflow:Can save best model only with val_loss available, skipping.\n",
      "22/46 [=============>................] - ETA: 3:28 - binary_accuracy: 1.0000 - loss: 0.5007WARNING:tensorflow:Can save best model only with val_loss available, skipping.\n",
      "23/46 [==============>...............] - ETA: 3:22 - binary_accuracy: 1.0000 - loss: 0.5001WARNING:tensorflow:Can save best model only with val_loss available, skipping.\n",
      "24/46 [==============>...............] - ETA: 3:14 - binary_accuracy: 1.0000 - loss: 0.4997WARNING:tensorflow:Can save best model only with val_loss available, skipping.\n",
      "25/46 [===============>..............] - ETA: 3:07 - binary_accuracy: 1.0000 - loss: 0.5005WARNING:tensorflow:Can save best model only with val_loss available, skipping.\n",
      "26/46 [===============>..............] - ETA: 2:59 - binary_accuracy: 1.0000 - loss: 0.5009WARNING:tensorflow:Can save best model only with val_loss available, skipping.\n",
      "27/46 [================>.............] - ETA: 2:51 - binary_accuracy: 1.0000 - loss: 0.5006WARNING:tensorflow:Can save best model only with val_loss available, skipping.\n",
      "28/46 [=================>............] - ETA: 2:43 - binary_accuracy: 1.0000 - loss: 0.5001WARNING:tensorflow:Can save best model only with val_loss available, skipping.\n",
      "29/46 [=================>............] - ETA: 2:36 - binary_accuracy: 1.0000 - loss: 0.5005WARNING:tensorflow:Can save best model only with val_loss available, skipping.\n",
      "30/46 [==================>...........] - ETA: 2:28 - binary_accuracy: 1.0000 - loss: 0.5008WARNING:tensorflow:Can save best model only with val_loss available, skipping.\n",
      "31/46 [===================>..........] - ETA: 2:19 - binary_accuracy: 1.0000 - loss: 0.5003WARNING:tensorflow:Can save best model only with val_loss available, skipping.\n",
      "32/46 [===================>..........] - ETA: 2:10 - binary_accuracy: 1.0000 - loss: 0.5006WARNING:tensorflow:Can save best model only with val_loss available, skipping.\n",
      "33/46 [====================>.........] - ETA: 2:02 - binary_accuracy: 1.0000 - loss: 0.5003WARNING:tensorflow:Can save best model only with val_loss available, skipping.\n",
      "34/46 [=====================>........] - ETA: 1:53 - binary_accuracy: 1.0000 - loss: 0.4998WARNING:tensorflow:Can save best model only with val_loss available, skipping.\n",
      "35/46 [=====================>........] - ETA: 1:43 - binary_accuracy: 1.0000 - loss: 0.4996WARNING:tensorflow:Can save best model only with val_loss available, skipping.\n",
      "36/46 [======================>.......] - ETA: 1:34 - binary_accuracy: 1.0000 - loss: 0.5007WARNING:tensorflow:Can save best model only with val_loss available, skipping.\n",
      "37/46 [=======================>......] - ETA: 1:25 - binary_accuracy: 1.0000 - loss: 0.5009WARNING:tensorflow:Can save best model only with val_loss available, skipping.\n",
      "38/46 [=======================>......] - ETA: 1:16 - binary_accuracy: 1.0000 - loss: 0.5012WARNING:tensorflow:Can save best model only with val_loss available, skipping.\n",
      "39/46 [========================>.....] - ETA: 1:07 - binary_accuracy: 1.0000 - loss: 0.5017WARNING:tensorflow:Can save best model only with val_loss available, skipping.\n",
      "40/46 [=========================>....] - ETA: 57s - binary_accuracy: 1.0000 - loss: 0.5019 WARNING:tensorflow:Can save best model only with val_loss available, skipping.\n",
      "41/46 [=========================>....] - ETA: 48s - binary_accuracy: 1.0000 - loss: 0.5025WARNING:tensorflow:Can save best model only with val_loss available, skipping.\n",
      "42/46 [==========================>...] - ETA: 38s - binary_accuracy: 1.0000 - loss: 0.5021WARNING:tensorflow:Can save best model only with val_loss available, skipping.\n",
      "43/46 [===========================>..] - ETA: 29s - binary_accuracy: 1.0000 - loss: 0.5020WARNING:tensorflow:Can save best model only with val_loss available, skipping.\n",
      "44/46 [===========================>..] - ETA: 19s - binary_accuracy: 1.0000 - loss: 0.5023WARNING:tensorflow:Can save best model only with val_loss available, skipping.\n",
      "45/46 [============================>.] - ETA: 9s - binary_accuracy: 1.0000 - loss: 0.5030 WARNING:tensorflow:Can save best model only with val_loss available, skipping.\n",
      "46/46 [==============================] - 653s 14s/step - binary_accuracy: 1.0000 - loss: 0.5030 - val_binary_accuracy: 1.0000 - val_loss: 0.4902 - lr: 1.0000e-05\n"
     ]
    }
   ],
   "source": [
    "with strategy.scope():\n",
    "    # Unfreeze the base model\n",
    "    base_model.trainable = True\n",
    "    model.compile(optimizer=keras.optimizers.Adam(1e-5),  # Very low learning rate\n",
    "                  loss=keras.losses.BinaryCrossentropy(from_logits=True),\n",
    "                  metrics=[keras.metrics.BinaryAccuracy()])\n",
    "    history = model.fit(train_generator, epochs=10, callbacks = callbacks_list, steps_per_epoch=int(6000/batch_size),\n",
    "              validation_data = validation_generator, validation_steps=int(2000/batch_size))"
   ]
  },
  {
   "cell_type": "code",
   "execution_count": 13,
   "metadata": {},
   "outputs": [],
   "source": [
    "model.save('guardrail_xception_subset.h5')"
   ]
  },
  {
   "cell_type": "code",
   "execution_count": 14,
   "metadata": {},
   "outputs": [
    {
     "data": {
      "image/png": "[encoded data removed]",
      "text/plain": [
       "<Figure size 432x288 with 1 Axes>"
      ]
     },
     "metadata": {
      "needs_background": "light"
     },
     "output_type": "display_data"
    }
   ],
   "source": [
    "plt.plot(history.history['binary_accuracy'])\n",
    "plt.plot(history.history['val_binary_accuracy'])\n",
    "plt.title('model accuracy')\n",
    "plt.ylabel('accuracy')\n",
    "plt.xlabel('epoch')\n",
    "plt.legend(['train', 'test'], loc='upper left')\n",
    "plt.show()"
   ]
  },
  {
   "cell_type": "code",
   "execution_count": 15,
   "metadata": {},
   "outputs": [
    {
     "data": {
      "image/png": "[encoded data removed]",
      "text/plain": [
       "<Figure size 432x288 with 1 Axes>"
      ]
     },
     "metadata": {
      "needs_background": "light"
     },
     "output_type": "display_data"
    }
   ],
   "source": [
    "# summarize history for loss\n",
    "plt.plot(history.history['loss'])\n",
    "plt.plot(history.history['val_loss'])\n",
    "plt.title('model loss')\n",
    "plt.ylabel('loss')\n",
    "plt.xlabel('epoch')\n",
    "plt.legend(['train', 'test'], loc='upper left')\n",
    "plt.show()"
   ]
  },
  {
   "cell_type": "code",
   "execution_count": 16,
   "metadata": {},
   "outputs": [
    {
     "name": "stdout",
     "output_type": "stream",
     "text": [
      "16/16 [==============================] - 155s 10s/step\n",
      "[[2.3242709e-08]\n",
      " [1.3973875e-07]\n",
      " [5.2035460e-07]\n",
      " ...\n",
      " [9.9998820e-01]\n",
      " [9.9996674e-01]\n",
      " [9.9989390e-01]]\n",
      "{'guardrail_no': 0, 'guardrail_yes': 1}\n",
      "{'guardrail_no': 0, 'guardrail_yes': 1}\n",
      "{'guardrail_no': 0, 'guardrail_yes': 1}\n"
     ]
    }
   ],
   "source": [
    "predictions = model.predict(test_generator, steps=int(2000/batch_size+1), verbose=1)\n",
    "print(predictions)\n",
    "print(test_generator.class_indices)\n",
    "print(train_generator.class_indices)\n",
    "print(validation_generator.class_indices)"
   ]
  },
  {
   "cell_type": "code",
   "execution_count": 17,
   "metadata": {},
   "outputs": [],
   "source": [
    "y_pred = [1 if y[0] >= 0.5 else 0 for y in predictions]\n"
   ]
  },
  {
   "cell_type": "code",
   "execution_count": 18,
   "metadata": {},
   "outputs": [
    {
     "name": "stdout",
     "output_type": "stream",
     "text": [
      "Confusion Matrix\n",
      "[[1000    0]\n",
      " [   0 1000]]\n",
      "Classification Report\n",
      "               precision    recall  f1-score   support\n",
      "\n",
      " guardrail_no       1.00      1.00      1.00      1000\n",
      "guardrail_yes       1.00      1.00      1.00      1000\n",
      "\n",
      "     accuracy                           1.00      2000\n",
      "    macro avg       1.00      1.00      1.00      2000\n",
      " weighted avg       1.00      1.00      1.00      2000\n",
      "\n"
     ]
    }
   ],
   "source": [
    "print('Confusion Matrix')\n",
    "print(confusion_matrix(test_generator.classes, y_pred))\n",
    "print('Classification Report')\n",
    "target_names = ['guardrail_no', 'guardrail_yes']\n",
    "print(classification_report(test_generator.classes, y_pred, target_names=target_names))"
   ]
  },
  {
   "cell_type": "code",
   "execution_count": null,
   "metadata": {},
   "outputs": [],
   "source": []
  }
 ],
 "metadata": {
  "kernelspec": {
   "display_name": "Python [conda env:tf_gpu]",
   "language": "python",
   "name": "conda-env-tf_gpu-py"
  },
  "language_info": {
   "codemirror_mode": {
    "name": "ipython",
    "version": 3
   },
   "file_extension": ".py",
   "mimetype": "text/x-python",
   "name": "python",
   "nbconvert_exporter": "python",
   "pygments_lexer": "ipython3",
   "version": "3.8.5"
  }
 },
 "nbformat": 4,
 "nbformat_minor": 4
}
