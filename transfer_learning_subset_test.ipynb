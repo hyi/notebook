{
 "cells": [
  {
   "cell_type": "code",
   "execution_count": 1,
   "metadata": {},
   "outputs": [],
   "source": [
    "import time\n",
    "import numpy as np\n",
    "import tensorflow as tf\n",
    "from tensorflow import keras\n",
    "import matplotlib.pyplot as plt\n",
    "from tf_explain.core.activations import ExtractActivations\n",
    "from tensorflow.keras.applications.xception import decode_predictions\n",
    "from tensorflow.keras.callbacks import TensorBoard\n",
    "from tensorflow.keras.preprocessing.image import ImageDataGenerator\n",
    "from sklearn.metrics import classification_report, confusion_matrix\n",
    "%matplotlib inline\n",
    "%load_ext tensorboard"
   ]
  },
  {
   "cell_type": "code",
   "execution_count": 2,
   "metadata": {},
   "outputs": [
    {
     "name": "stdout",
     "output_type": "stream",
     "text": [
      "2 Physical GPU, 2 Logical GPUs\n"
     ]
    }
   ],
   "source": [
    "tf.config.experimental.set_memory_growth = True\n",
    "gpus = tf.config.experimental.list_physical_devices('GPU')\n",
    "if len(gpus) == 2:\n",
    "  try:\n",
    "    tf.config.experimental.set_virtual_device_configuration(\n",
    "        gpus[0],\n",
    "        [tf.config.experimental.VirtualDeviceConfiguration(memory_limit=1024*30)])\n",
    "    tf.config.experimental.set_virtual_device_configuration(\n",
    "        gpus[1],\n",
    "        [tf.config.experimental.VirtualDeviceConfiguration(memory_limit=1024*30)])\n",
    "    logical_gpus = tf.config.experimental.list_logical_devices('GPU')\n",
    "    print(len(gpus), \"Physical GPU,\", len(logical_gpus), \"Logical GPUs\")\n",
    "  except RuntimeError as e:\n",
    "    # Virtual devices must be set before GPUs have been initialized\n",
    "    print(e)\n",
    "        "
   ]
  },
  {
   "cell_type": "code",
   "execution_count": 11,
   "metadata": {},
   "outputs": [],
   "source": [
    "from tensorflow.keras.callbacks import ModelCheckpoint, EarlyStopping, ReduceLROnPlateau\n",
    "\n",
    "tensorboard = TensorBoard(log_dir=\"logs/{}\".format(time.time()))\n",
    " \n",
    "filepath = 'subset_fine_tune_model_sigmoid.h5'\n",
    "checkpoint = ModelCheckpoint(filepath, monitor='val_loss', verbose=1,save_best_only=True,save_weights_only=False, mode='auto')\n",
    "earlystop = EarlyStopping(monitor='binary_accuracy', patience=1)\n",
    "reduce = ReduceLROnPlateau(monitor='val_loss', factor=0.1, patience=8)\n",
    "callbacks_list = [earlystop, reduce, checkpoint, tensorboard]"
   ]
  },
  {
   "cell_type": "code",
   "execution_count": 4,
   "metadata": {},
   "outputs": [
    {
     "name": "stdout",
     "output_type": "stream",
     "text": [
      "Found 6000 images belonging to 2 classes.\n"
     ]
    }
   ],
   "source": [
    "batch_size = 128\n",
    "\n",
    "# All images will be rescaled by 1./255\n",
    "datagen = ImageDataGenerator(rescale=1/255)\n",
    "# load and iterate training dataset in batches of 128 using datagen generator\n",
    "train_generator = datagen.flow_from_directory(\n",
    "        '/projects/ncdot/2018/machine_learning/subset_data/train',  # This is the source directory for training images\n",
    "        target_size=(299, 299),  # All images will be resized to 299 x 299\n",
    "        batch_size=batch_size,\n",
    "        # Specify the classes explicitly\n",
    "        classes = ['guardrail_no','guardrail_yes'],\n",
    "        class_mode='binary', shuffle=True)"
   ]
  },
  {
   "cell_type": "code",
   "execution_count": 5,
   "metadata": {},
   "outputs": [
    {
     "name": "stdout",
     "output_type": "stream",
     "text": [
      "Found 2000 images belonging to 2 classes.\n",
      "Found 2000 images belonging to 2 classes.\n"
     ]
    }
   ],
   "source": [
    "# load and iterate validation dataset\n",
    "validation_generator = datagen.flow_from_directory('/projects/ncdot/2018/machine_learning/subset_data/validation', \n",
    "                                                   target_size=(299, 299), \n",
    "                                                   class_mode='binary', \n",
    "                                                   classes = ['guardrail_no','guardrail_yes'], \n",
    "                                                   batch_size=batch_size, shuffle=False)\n",
    "# load and iterate test dataset in batches of 128 using datagen generator\n",
    "test_generator = datagen.flow_from_directory('/projects/ncdot/2018/machine_learning/subset_data/test', \n",
    "                                             target_size=(299, 299), \n",
    "                                             classes = ['guardrail_no','guardrail_yes'], \n",
    "                                             class_mode='binary', batch_size=batch_size, shuffle=False)"
   ]
  },
  {
   "cell_type": "code",
   "execution_count": 6,
   "metadata": {},
   "outputs": [
    {
     "name": "stdout",
     "output_type": "stream",
     "text": [
      "INFO:tensorflow:Using MirroredStrategy with devices ('/job:localhost/replica:0/task:0/device:GPU:0', '/job:localhost/replica:0/task:0/device:GPU:1')\n",
      "INFO:tensorflow:Reduce to /job:localhost/replica:0/task:0/device:CPU:0 then broadcast to ('/job:localhost/replica:0/task:0/device:CPU:0',).\n",
      "INFO:tensorflow:Reduce to /job:localhost/replica:0/task:0/device:CPU:0 then broadcast to ('/job:localhost/replica:0/task:0/device:CPU:0',).\n",
      "INFO:tensorflow:Reduce to /job:localhost/replica:0/task:0/device:CPU:0 then broadcast to ('/job:localhost/replica:0/task:0/device:CPU:0',).\n",
      "INFO:tensorflow:Reduce to /job:localhost/replica:0/task:0/device:CPU:0 then broadcast to ('/job:localhost/replica:0/task:0/device:CPU:0',).\n",
      "INFO:tensorflow:Reduce to /job:localhost/replica:0/task:0/device:CPU:0 then broadcast to ('/job:localhost/replica:0/task:0/device:CPU:0',).\n",
      "INFO:tensorflow:Reduce to /job:localhost/replica:0/task:0/device:CPU:0 then broadcast to ('/job:localhost/replica:0/task:0/device:CPU:0',).\n",
      "INFO:tensorflow:Reduce to /job:localhost/replica:0/task:0/device:CPU:0 then broadcast to ('/job:localhost/replica:0/task:0/device:CPU:0',).\n",
      "INFO:tensorflow:Reduce to /job:localhost/replica:0/task:0/device:CPU:0 then broadcast to ('/job:localhost/replica:0/task:0/device:CPU:0',).\n",
      "INFO:tensorflow:Reduce to /job:localhost/replica:0/task:0/device:CPU:0 then broadcast to ('/job:localhost/replica:0/task:0/device:CPU:0',).\n",
      "INFO:tensorflow:Reduce to /job:localhost/replica:0/task:0/device:CPU:0 then broadcast to ('/job:localhost/replica:0/task:0/device:CPU:0',).\n",
      "Model: \"model\"\n",
      "_________________________________________________________________\n",
      "Layer (type)                 Output Shape              Param #   \n",
      "=================================================================\n",
      "input_2 (InputLayer)         [(None, 299, 299, 3)]     0         \n",
      "_________________________________________________________________\n",
      "xception (Model)             multiple                  20861480  \n",
      "_________________________________________________________________\n",
      "global_average_pooling2d (Gl (None, 2048)              0         \n",
      "_________________________________________________________________\n",
      "dropout (Dropout)            (None, 2048)              0         \n",
      "_________________________________________________________________\n",
      "dense (Dense)                (None, 1)                 2049      \n",
      "=================================================================\n",
      "Total params: 20,863,529\n",
      "Trainable params: 2,049\n",
      "Non-trainable params: 20,861,480\n",
      "_________________________________________________________________\n",
      "None\n",
      "Epoch 1/4\n",
      "INFO:tensorflow:batch_all_reduce: 2 all-reduces with algorithm = nccl, num_packs = 1\n",
      "INFO:tensorflow:batch_all_reduce: 2 all-reduces with algorithm = nccl, num_packs = 1\n",
      "WARNING:tensorflow:Can save best model only with val_loss available, skipping.\n",
      " 1/47 [..............................] - ETA: 0s - loss: 0.7165 - binary_accuracy: 0.5078WARNING:tensorflow:Can save best model only with val_loss available, skipping.\n",
      " 2/47 [>.............................] - ETA: 6:19 - loss: 0.7331 - binary_accuracy: 0.5703WARNING:tensorflow:Can save best model only with val_loss available, skipping.\n",
      " 3/47 [>.............................] - ETA: 9:44 - loss: 0.7264 - binary_accuracy: 0.5703WARNING:tensorflow:Can save best model only with val_loss available, skipping.\n",
      " 4/47 [=>............................] - ETA: 11:19 - loss: 0.7204 - binary_accuracy: 0.5684WARNING:tensorflow:Can save best model only with val_loss available, skipping.\n",
      " 5/47 [==>...........................] - ETA: 12:11 - loss: 0.7124 - binary_accuracy: 0.5562WARNING:tensorflow:Can save best model only with val_loss available, skipping.\n",
      " 6/47 [==>...........................] - ETA: 12:34 - loss: 0.7060 - binary_accuracy: 0.5495WARNING:tensorflow:Can save best model only with val_loss available, skipping.\n",
      " 7/47 [===>..........................] - ETA: 12:42 - loss: 0.7058 - binary_accuracy: 0.5558WARNING:tensorflow:Can save best model only with val_loss available, skipping.\n",
      " 8/47 [====>.........................] - ETA: 12:44 - loss: 0.7033 - binary_accuracy: 0.5557WARNING:tensorflow:Can save best model only with val_loss available, skipping.\n",
      " 9/47 [====>.........................] - ETA: 12:40 - loss: 0.6978 - binary_accuracy: 0.5486WARNING:tensorflow:Can save best model only with val_loss available, skipping.\n",
      "10/47 [=====>........................] - ETA: 12:32 - loss: 0.6954 - binary_accuracy: 0.5461WARNING:tensorflow:Can save best model only with val_loss available, skipping.\n",
      "11/47 [======>.......................] - ETA: 12:25 - loss: 0.6940 - binary_accuracy: 0.5447WARNING:tensorflow:Can save best model only with val_loss available, skipping.\n",
      "12/47 [======>.......................] - ETA: 12:14 - loss: 0.6904 - binary_accuracy: 0.5410WARNING:tensorflow:Can save best model only with val_loss available, skipping.\n",
      "13/47 [=======>......................] - ETA: 12:00 - loss: 0.6886 - binary_accuracy: 0.5391WARNING:tensorflow:Can save best model only with val_loss available, skipping.\n",
      "14/47 [=======>......................] - ETA: 11:45 - loss: 0.6860 - binary_accuracy: 0.5385WARNING:tensorflow:Can save best model only with val_loss available, skipping.\n",
      "15/47 [========>.....................] - ETA: 11:17 - loss: 0.6836 - binary_accuracy: 0.5391WARNING:tensorflow:Can save best model only with val_loss available, skipping.\n",
      "16/47 [=========>....................] - ETA: 10:50 - loss: 0.6816 - binary_accuracy: 0.5396WARNING:tensorflow:Can save best model only with val_loss available, skipping.\n",
      "17/47 [=========>....................] - ETA: 10:34 - loss: 0.6793 - binary_accuracy: 0.5414WARNING:tensorflow:Can save best model only with val_loss available, skipping.\n",
      "18/47 [==========>...................] - ETA: 10:17 - loss: 0.6788 - binary_accuracy: 0.5512WARNING:tensorflow:Can save best model only with val_loss available, skipping.\n",
      "19/47 [===========>..................] - ETA: 9:57 - loss: 0.6777 - binary_accuracy: 0.5539 WARNING:tensorflow:Can save best model only with val_loss available, skipping.\n",
      "20/47 [===========>..................] - ETA: 9:39 - loss: 0.6764 - binary_accuracy: 0.5570WARNING:tensorflow:Can save best model only with val_loss available, skipping.\n",
      "21/47 [============>.................] - ETA: 9:21 - loss: 0.6741 - binary_accuracy: 0.5592WARNING:tensorflow:Can save best model only with val_loss available, skipping.\n",
      "22/47 [=============>................] - ETA: 9:01 - loss: 0.6721 - binary_accuracy: 0.5625WARNING:tensorflow:Can save best model only with val_loss available, skipping.\n",
      "23/47 [=============>................] - ETA: 8:40 - loss: 0.6710 - binary_accuracy: 0.5703WARNING:tensorflow:Can save best model only with val_loss available, skipping.\n",
      "24/47 [==============>...............] - ETA: 8:20 - loss: 0.6684 - binary_accuracy: 0.5736WARNING:tensorflow:Can save best model only with val_loss available, skipping.\n",
      "25/47 [==============>...............] - ETA: 8:00 - loss: 0.6662 - binary_accuracy: 0.5778WARNING:tensorflow:Can save best model only with val_loss available, skipping.\n",
      "26/47 [===============>..............] - ETA: 7:39 - loss: 0.6643 - binary_accuracy: 0.5844WARNING:tensorflow:Can save best model only with val_loss available, skipping.\n",
      "27/47 [================>.............] - ETA: 7:18 - loss: 0.6632 - binary_accuracy: 0.5923WARNING:tensorflow:Can save best model only with val_loss available, skipping.\n",
      "28/47 [================>.............] - ETA: 6:57 - loss: 0.6613 - binary_accuracy: 0.6013WARNING:tensorflow:Can save best model only with val_loss available, skipping.\n",
      "29/47 [=================>............] - ETA: 6:36 - loss: 0.6601 - binary_accuracy: 0.6102WARNING:tensorflow:Can save best model only with val_loss available, skipping.\n",
      "30/47 [==================>...........] - ETA: 6:15 - loss: 0.6586 - binary_accuracy: 0.6169WARNING:tensorflow:Can save best model only with val_loss available, skipping.\n",
      "31/47 [==================>...........] - ETA: 5:53 - loss: 0.6581 - binary_accuracy: 0.6237WARNING:tensorflow:Can save best model only with val_loss available, skipping.\n"
     ]
    },
    {
     "name": "stdout",
     "output_type": "stream",
     "text": [
      "32/47 [===================>..........] - ETA: 5:31 - loss: 0.6565 - binary_accuracy: 0.6309WARNING:tensorflow:Can save best model only with val_loss available, skipping.\n",
      "33/47 [====================>.........] - ETA: 5:10 - loss: 0.6542 - binary_accuracy: 0.6368WARNING:tensorflow:Can save best model only with val_loss available, skipping.\n",
      "34/47 [====================>.........] - ETA: 4:48 - loss: 0.6535 - binary_accuracy: 0.6436WARNING:tensorflow:Can save best model only with val_loss available, skipping.\n",
      "35/47 [=====================>........] - ETA: 4:27 - loss: 0.6517 - binary_accuracy: 0.6498WARNING:tensorflow:Can save best model only with val_loss available, skipping.\n",
      "36/47 [=====================>........] - ETA: 4:05 - loss: 0.6507 - binary_accuracy: 0.6547WARNING:tensorflow:Can save best model only with val_loss available, skipping.\n",
      "37/47 [======================>.......] - ETA: 3:43 - loss: 0.6492 - binary_accuracy: 0.6603WARNING:tensorflow:Can save best model only with val_loss available, skipping.\n",
      "38/47 [=======================>......] - ETA: 3:21 - loss: 0.6482 - binary_accuracy: 0.6653WARNING:tensorflow:Can save best model only with val_loss available, skipping.\n",
      "39/47 [=======================>......] - ETA: 2:58 - loss: 0.6470 - binary_accuracy: 0.6715WARNING:tensorflow:Can save best model only with val_loss available, skipping.\n",
      "40/47 [========================>.....] - ETA: 2:36 - loss: 0.6465 - binary_accuracy: 0.6773WARNING:tensorflow:Can save best model only with val_loss available, skipping.\n",
      "41/47 [=========================>....] - ETA: 2:14 - loss: 0.6453 - binary_accuracy: 0.6820WARNING:tensorflow:Can save best model only with val_loss available, skipping.\n",
      "42/47 [=========================>....] - ETA: 1:52 - loss: 0.6440 - binary_accuracy: 0.6866WARNING:tensorflow:Can save best model only with val_loss available, skipping.\n",
      "43/47 [==========================>...] - ETA: 1:29 - loss: 0.6425 - binary_accuracy: 0.6911WARNING:tensorflow:Can save best model only with val_loss available, skipping.\n",
      "44/47 [===========================>..] - ETA: 1:07 - loss: 0.6413 - binary_accuracy: 0.6950WARNING:tensorflow:Can save best model only with val_loss available, skipping.\n",
      "45/47 [===========================>..] - ETA: 45s - loss: 0.6397 - binary_accuracy: 0.6990 WARNING:tensorflow:Can save best model only with val_loss available, skipping.\n",
      "46/47 [============================>.] - ETA: 22s - loss: 0.6382 - binary_accuracy: 0.7023WARNING:tensorflow:Can save best model only with val_loss available, skipping.\n",
      "47/47 [==============================] - 1445s 31s/step - loss: 0.6374 - binary_accuracy: 0.7058 - val_loss: 0.5906 - val_binary_accuracy: 0.8655 - lr: 0.0010\n",
      "Epoch 2/4\n",
      "WARNING:tensorflow:Can save best model only with val_loss available, skipping.\n",
      " 1/47 [..............................] - ETA: 0s - loss: 0.5782 - binary_accuracy: 0.8672WARNING:tensorflow:Can save best model only with val_loss available, skipping.\n",
      " 2/47 [>.............................] - ETA: 6s - loss: 0.5738 - binary_accuracy: 0.8906WARNING:tensorflow:Can save best model only with val_loss available, skipping.\n",
      " 3/47 [>.............................] - ETA: 7s - loss: 0.5854 - binary_accuracy: 0.8828WARNING:tensorflow:Can save best model only with val_loss available, skipping.\n",
      " 4/47 [=>............................] - ETA: 6s - loss: 0.5915 - binary_accuracy: 0.8867WARNING:tensorflow:Can save best model only with val_loss available, skipping.\n",
      " 5/47 [==>...........................] - ETA: 1:27 - loss: 0.5897 - binary_accuracy: 0.8906WARNING:tensorflow:Can save best model only with val_loss available, skipping.\n",
      " 6/47 [==>...........................] - ETA: 2:21 - loss: 0.5864 - binary_accuracy: 0.8945WARNING:tensorflow:Can save best model only with val_loss available, skipping.\n",
      " 7/47 [===>..........................] - ETA: 2:57 - loss: 0.5872 - binary_accuracy: 0.8984WARNING:tensorflow:Can save best model only with val_loss available, skipping.\n",
      " 8/47 [====>.........................] - ETA: 3:23 - loss: 0.5861 - binary_accuracy: 0.8936WARNING:tensorflow:Can save best model only with val_loss available, skipping.\n",
      " 9/47 [====>.........................] - ETA: 3:40 - loss: 0.5828 - binary_accuracy: 0.8932WARNING:tensorflow:Can save best model only with val_loss available, skipping.\n",
      "10/47 [=====>........................] - ETA: 3:54 - loss: 0.5797 - binary_accuracy: 0.8969WARNING:tensorflow:Can save best model only with val_loss available, skipping.\n",
      "11/47 [======>.......................] - ETA: 4:02 - loss: 0.5781 - binary_accuracy: 0.8928WARNING:tensorflow:Can save best model only with val_loss available, skipping.\n",
      "12/47 [======>.......................] - ETA: 4:08 - loss: 0.5787 - binary_accuracy: 0.8932WARNING:tensorflow:Can save best model only with val_loss available, skipping.\n",
      "13/47 [=======>......................] - ETA: 4:11 - loss: 0.5755 - binary_accuracy: 0.8948WARNING:tensorflow:Can save best model only with val_loss available, skipping.\n",
      "14/47 [=======>......................] - ETA: 4:12 - loss: 0.5767 - binary_accuracy: 0.8968WARNING:tensorflow:Can save best model only with val_loss available, skipping.\n",
      "15/47 [========>.....................] - ETA: 4:12 - loss: 0.5779 - binary_accuracy: 0.9010WARNING:tensorflow:Can save best model only with val_loss available, skipping.\n",
      "16/47 [=========>....................] - ETA: 4:10 - loss: 0.5785 - binary_accuracy: 0.9038WARNING:tensorflow:Can save best model only with val_loss available, skipping.\n",
      "17/47 [=========>....................] - ETA: 4:07 - loss: 0.5788 - binary_accuracy: 0.9044WARNING:tensorflow:Can save best model only with val_loss available, skipping.\n",
      "18/47 [==========>...................] - ETA: 4:04 - loss: 0.5795 - binary_accuracy: 0.9036WARNING:tensorflow:Can save best model only with val_loss available, skipping.\n",
      "19/47 [===========>..................] - ETA: 3:59 - loss: 0.5801 - binary_accuracy: 0.9058WARNING:tensorflow:Can save best model only with val_loss available, skipping.\n",
      "20/47 [===========>..................] - ETA: 3:54 - loss: 0.5806 - binary_accuracy: 0.9059WARNING:tensorflow:Can save best model only with val_loss available, skipping.\n",
      "21/47 [============>.................] - ETA: 3:48 - loss: 0.5804 - binary_accuracy: 0.9074WARNING:tensorflow:Can save best model only with val_loss available, skipping.\n",
      "22/47 [=============>................] - ETA: 3:41 - loss: 0.5788 - binary_accuracy: 0.9066WARNING:tensorflow:Can save best model only with val_loss available, skipping.\n",
      "23/47 [=============>................] - ETA: 3:35 - loss: 0.5798 - binary_accuracy: 0.9073WARNING:tensorflow:Can save best model only with val_loss available, skipping.\n",
      "24/47 [==============>...............] - ETA: 3:28 - loss: 0.5786 - binary_accuracy: 0.9072WARNING:tensorflow:Can save best model only with val_loss available, skipping.\n",
      "25/47 [==============>...............] - ETA: 3:20 - loss: 0.5784 - binary_accuracy: 0.9081WARNING:tensorflow:Can save best model only with val_loss available, skipping.\n",
      "26/47 [===============>..............] - ETA: 3:12 - loss: 0.5783 - binary_accuracy: 0.9081WARNING:tensorflow:Can save best model only with val_loss available, skipping.\n",
      "27/47 [================>.............] - ETA: 3:04 - loss: 0.5776 - binary_accuracy: 0.9083WARNING:tensorflow:Can save best model only with val_loss available, skipping.\n",
      "28/47 [================>.............] - ETA: 2:56 - loss: 0.5769 - binary_accuracy: 0.9074WARNING:tensorflow:Can save best model only with val_loss available, skipping.\n",
      "29/47 [=================>............] - ETA: 2:48 - loss: 0.5768 - binary_accuracy: 0.9079WARNING:tensorflow:Can save best model only with val_loss available, skipping.\n",
      "30/47 [==================>...........] - ETA: 2:39 - loss: 0.5762 - binary_accuracy: 0.9083WARNING:tensorflow:Can save best model only with val_loss available, skipping.\n",
      "31/47 [==================>...........] - ETA: 2:31 - loss: 0.5760 - binary_accuracy: 0.9088WARNING:tensorflow:Can save best model only with val_loss available, skipping.\n",
      "32/47 [===================>..........] - ETA: 2:22 - loss: 0.5770 - binary_accuracy: 0.9087WARNING:tensorflow:Can save best model only with val_loss available, skipping.\n"
     ]
    },
    {
     "name": "stdout",
     "output_type": "stream",
     "text": [
      "33/47 [====================>.........] - ETA: 2:13 - loss: 0.5770 - binary_accuracy: 0.9084WARNING:tensorflow:Can save best model only with val_loss available, skipping.\n",
      "34/47 [====================>.........] - ETA: 2:04 - loss: 0.5758 - binary_accuracy: 0.9097WARNING:tensorflow:Can save best model only with val_loss available, skipping.\n",
      "35/47 [=====================>........] - ETA: 1:55 - loss: 0.5751 - binary_accuracy: 0.9105WARNING:tensorflow:Can save best model only with val_loss available, skipping.\n",
      "36/47 [=====================>........] - ETA: 1:46 - loss: 0.5741 - binary_accuracy: 0.9110WARNING:tensorflow:Can save best model only with val_loss available, skipping.\n",
      "37/47 [======================>.......] - ETA: 1:36 - loss: 0.5736 - binary_accuracy: 0.9115WARNING:tensorflow:Can save best model only with val_loss available, skipping.\n",
      "38/47 [=======================>......] - ETA: 1:27 - loss: 0.5732 - binary_accuracy: 0.9120WARNING:tensorflow:Can save best model only with val_loss available, skipping.\n",
      "39/47 [=======================>......] - ETA: 1:18 - loss: 0.5724 - binary_accuracy: 0.9125WARNING:tensorflow:Can save best model only with val_loss available, skipping.\n",
      "40/47 [========================>.....] - ETA: 1:08 - loss: 0.5722 - binary_accuracy: 0.9129WARNING:tensorflow:Can save best model only with val_loss available, skipping.\n",
      "41/47 [=========================>....] - ETA: 58s - loss: 0.5716 - binary_accuracy: 0.9137 WARNING:tensorflow:Can save best model only with val_loss available, skipping.\n",
      "42/47 [=========================>....] - ETA: 49s - loss: 0.5712 - binary_accuracy: 0.9150WARNING:tensorflow:Can save best model only with val_loss available, skipping.\n",
      "43/47 [==========================>...] - ETA: 39s - loss: 0.5704 - binary_accuracy: 0.9161WARNING:tensorflow:Can save best model only with val_loss available, skipping.\n",
      "44/47 [===========================>..] - ETA: 29s - loss: 0.5696 - binary_accuracy: 0.9173WARNING:tensorflow:Can save best model only with val_loss available, skipping.\n",
      "45/47 [===========================>..] - ETA: 19s - loss: 0.5700 - binary_accuracy: 0.9172WARNING:tensorflow:Can save best model only with val_loss available, skipping.\n",
      "46/47 [============================>.] - ETA: 9s - loss: 0.5697 - binary_accuracy: 0.9178 WARNING:tensorflow:Can save best model only with val_loss available, skipping.\n",
      "47/47 [==============================] - 681s 14s/step - loss: 0.5693 - binary_accuracy: 0.9183 - val_loss: 0.5561 - val_binary_accuracy: 0.9495 - lr: 0.0010\n",
      "Epoch 3/4\n",
      "WARNING:tensorflow:Can save best model only with val_loss available, skipping.\n",
      " 1/47 [..............................] - ETA: 0s - loss: 0.5399 - binary_accuracy: 0.9531WARNING:tensorflow:Can save best model only with val_loss available, skipping.\n",
      " 2/47 [>.............................] - ETA: 5s - loss: 0.5612 - binary_accuracy: 0.9453WARNING:tensorflow:Can save best model only with val_loss available, skipping.\n",
      " 3/47 [>.............................] - ETA: 6s - loss: 0.5593 - binary_accuracy: 0.9479WARNING:tensorflow:Can save best model only with val_loss available, skipping.\n",
      " 4/47 [=>............................] - ETA: 6s - loss: 0.5540 - binary_accuracy: 0.9473WARNING:tensorflow:Can save best model only with val_loss available, skipping.\n",
      " 5/47 [==>...........................] - ETA: 1:28 - loss: 0.5511 - binary_accuracy: 0.9469WARNING:tensorflow:Can save best model only with val_loss available, skipping.\n",
      " 6/47 [==>...........................] - ETA: 2:27 - loss: 0.5478 - binary_accuracy: 0.9479WARNING:tensorflow:Can save best model only with val_loss available, skipping.\n",
      " 7/47 [===>..........................] - ETA: 3:05 - loss: 0.5482 - binary_accuracy: 0.9498WARNING:tensorflow:Can save best model only with val_loss available, skipping.\n",
      " 8/47 [====>.........................] - ETA: 3:31 - loss: 0.5501 - binary_accuracy: 0.9492WARNING:tensorflow:Can save best model only with val_loss available, skipping.\n",
      " 9/47 [====>.........................] - ETA: 3:48 - loss: 0.5503 - binary_accuracy: 0.9497WARNING:tensorflow:Can save best model only with val_loss available, skipping.\n",
      "10/47 [=====>........................] - ETA: 4:00 - loss: 0.5501 - binary_accuracy: 0.9523WARNING:tensorflow:Can save best model only with val_loss available, skipping.\n",
      "11/47 [======>.......................] - ETA: 4:07 - loss: 0.5522 - binary_accuracy: 0.9524WARNING:tensorflow:Can save best model only with val_loss available, skipping.\n",
      "12/47 [======>.......................] - ETA: 4:12 - loss: 0.5517 - binary_accuracy: 0.9531WARNING:tensorflow:Can save best model only with val_loss available, skipping.\n",
      "13/47 [=======>......................] - ETA: 4:14 - loss: 0.5481 - binary_accuracy: 0.9519WARNING:tensorflow:Can save best model only with val_loss available, skipping.\n",
      "14/47 [=======>......................] - ETA: 4:14 - loss: 0.5447 - binary_accuracy: 0.9509WARNING:tensorflow:Can save best model only with val_loss available, skipping.\n",
      "15/47 [========>.....................] - ETA: 4:13 - loss: 0.5440 - binary_accuracy: 0.9510WARNING:tensorflow:Can save best model only with val_loss available, skipping.\n",
      "16/47 [=========>....................] - ETA: 4:11 - loss: 0.5439 - binary_accuracy: 0.9521WARNING:tensorflow:Can save best model only with val_loss available, skipping.\n",
      "17/47 [=========>....................] - ETA: 4:08 - loss: 0.5448 - binary_accuracy: 0.9517WARNING:tensorflow:Can save best model only with val_loss available, skipping.\n",
      "18/47 [==========>...................] - ETA: 4:04 - loss: 0.5447 - binary_accuracy: 0.9501WARNING:tensorflow:Can save best model only with val_loss available, skipping.\n",
      "19/47 [===========>..................] - ETA: 3:59 - loss: 0.5460 - binary_accuracy: 0.9511WARNING:tensorflow:Can save best model only with val_loss available, skipping.\n",
      "20/47 [===========>..................] - ETA: 3:53 - loss: 0.5461 - binary_accuracy: 0.9504WARNING:tensorflow:Can save best model only with val_loss available, skipping.\n",
      "21/47 [============>.................] - ETA: 3:46 - loss: 0.5464 - binary_accuracy: 0.9513WARNING:tensorflow:Can save best model only with val_loss available, skipping.\n",
      "22/47 [=============>................] - ETA: 3:40 - loss: 0.5477 - binary_accuracy: 0.9510WARNING:tensorflow:Can save best model only with val_loss available, skipping.\n",
      "23/47 [=============>................] - ETA: 3:33 - loss: 0.5477 - binary_accuracy: 0.9518WARNING:tensorflow:Can save best model only with val_loss available, skipping.\n",
      "24/47 [==============>...............] - ETA: 3:26 - loss: 0.5471 - binary_accuracy: 0.9518WARNING:tensorflow:Can save best model only with val_loss available, skipping.\n",
      "25/47 [==============>...............] - ETA: 3:19 - loss: 0.5463 - binary_accuracy: 0.9519WARNING:tensorflow:Can save best model only with val_loss available, skipping.\n",
      "26/47 [===============>..............] - ETA: 3:11 - loss: 0.5458 - binary_accuracy: 0.9525WARNING:tensorflow:Can save best model only with val_loss available, skipping.\n",
      "27/47 [================>.............] - ETA: 3:03 - loss: 0.5459 - binary_accuracy: 0.9528WARNING:tensorflow:Can save best model only with val_loss available, skipping.\n",
      "28/47 [================>.............] - ETA: 2:55 - loss: 0.5466 - binary_accuracy: 0.9537WARNING:tensorflow:Can save best model only with val_loss available, skipping.\n",
      "29/47 [=================>............] - ETA: 2:47 - loss: 0.5460 - binary_accuracy: 0.9547WARNING:tensorflow:Can save best model only with val_loss available, skipping.\n",
      "30/47 [==================>...........] - ETA: 2:39 - loss: 0.5458 - binary_accuracy: 0.9549WARNING:tensorflow:Can save best model only with val_loss available, skipping.\n",
      "31/47 [==================>...........] - ETA: 2:30 - loss: 0.5470 - binary_accuracy: 0.9546WARNING:tensorflow:Can save best model only with val_loss available, skipping.\n",
      "32/47 [===================>..........] - ETA: 2:21 - loss: 0.5470 - binary_accuracy: 0.9543WARNING:tensorflow:Can save best model only with val_loss available, skipping.\n",
      "33/47 [====================>.........] - ETA: 2:12 - loss: 0.5467 - binary_accuracy: 0.9548WARNING:tensorflow:Can save best model only with val_loss available, skipping.\n"
     ]
    },
    {
     "name": "stdout",
     "output_type": "stream",
     "text": [
      "34/47 [====================>.........] - ETA: 2:04 - loss: 0.5469 - binary_accuracy: 0.9545WARNING:tensorflow:Can save best model only with val_loss available, skipping.\n",
      "35/47 [=====================>........] - ETA: 1:54 - loss: 0.5463 - binary_accuracy: 0.9547WARNING:tensorflow:Can save best model only with val_loss available, skipping.\n",
      "36/47 [=====================>........] - ETA: 1:45 - loss: 0.5462 - binary_accuracy: 0.9553WARNING:tensorflow:Can save best model only with val_loss available, skipping.\n",
      "37/47 [======================>.......] - ETA: 1:36 - loss: 0.5458 - binary_accuracy: 0.9563WARNING:tensorflow:Can save best model only with val_loss available, skipping.\n",
      "38/47 [=======================>......] - ETA: 1:27 - loss: 0.5455 - binary_accuracy: 0.9568WARNING:tensorflow:Can save best model only with val_loss available, skipping.\n",
      "39/47 [=======================>......] - ETA: 1:17 - loss: 0.5457 - binary_accuracy: 0.9567WARNING:tensorflow:Can save best model only with val_loss available, skipping.\n",
      "40/47 [========================>.....] - ETA: 1:08 - loss: 0.5459 - binary_accuracy: 0.9574WARNING:tensorflow:Can save best model only with val_loss available, skipping.\n",
      "41/47 [=========================>....] - ETA: 58s - loss: 0.5454 - binary_accuracy: 0.9575 WARNING:tensorflow:Can save best model only with val_loss available, skipping.\n",
      "42/47 [=========================>....] - ETA: 49s - loss: 0.5458 - binary_accuracy: 0.9574WARNING:tensorflow:Can save best model only with val_loss available, skipping.\n",
      "43/47 [==========================>...] - ETA: 39s - loss: 0.5461 - binary_accuracy: 0.9578WARNING:tensorflow:Can save best model only with val_loss available, skipping.\n",
      "44/47 [===========================>..] - ETA: 29s - loss: 0.5463 - binary_accuracy: 0.9586WARNING:tensorflow:Can save best model only with val_loss available, skipping.\n",
      "45/47 [===========================>..] - ETA: 19s - loss: 0.5461 - binary_accuracy: 0.9587WARNING:tensorflow:Can save best model only with val_loss available, skipping.\n",
      "46/47 [============================>.] - ETA: 9s - loss: 0.5465 - binary_accuracy: 0.9587 WARNING:tensorflow:Can save best model only with val_loss available, skipping.\n",
      "47/47 [==============================] - 681s 14s/step - loss: 0.5465 - binary_accuracy: 0.9590 - val_loss: 0.5410 - val_binary_accuracy: 0.9630 - lr: 0.0010\n",
      "Epoch 4/4\n",
      "WARNING:tensorflow:Can save best model only with val_loss available, skipping.\n",
      " 1/47 [..............................] - ETA: 0s - loss: 0.5294 - binary_accuracy: 0.9609WARNING:tensorflow:Can save best model only with val_loss available, skipping.\n",
      " 2/47 [>.............................] - ETA: 5s - loss: 0.5269 - binary_accuracy: 0.9727WARNING:tensorflow:Can save best model only with val_loss available, skipping.\n",
      " 3/47 [>.............................] - ETA: 8s - loss: 0.5253 - binary_accuracy: 0.9740WARNING:tensorflow:Can save best model only with val_loss available, skipping.\n",
      " 4/47 [=>............................] - ETA: 7s - loss: 0.5319 - binary_accuracy: 0.9727WARNING:tensorflow:Can save best model only with val_loss available, skipping.\n",
      " 5/47 [==>...........................] - ETA: 1:30 - loss: 0.5364 - binary_accuracy: 0.9703WARNING:tensorflow:Can save best model only with val_loss available, skipping.\n",
      " 6/47 [==>...........................] - ETA: 2:27 - loss: 0.5407 - binary_accuracy: 0.9701WARNING:tensorflow:Can save best model only with val_loss available, skipping.\n",
      " 7/47 [===>..........................] - ETA: 3:05 - loss: 0.5374 - binary_accuracy: 0.9721WARNING:tensorflow:Can save best model only with val_loss available, skipping.\n",
      " 8/47 [====>.........................] - ETA: 3:32 - loss: 0.5400 - binary_accuracy: 0.9678WARNING:tensorflow:Can save best model only with val_loss available, skipping.\n",
      " 9/47 [====>.........................] - ETA: 3:51 - loss: 0.5424 - binary_accuracy: 0.9670WARNING:tensorflow:Can save best model only with val_loss available, skipping.\n",
      "10/47 [=====>........................] - ETA: 4:03 - loss: 0.5442 - binary_accuracy: 0.9695WARNING:tensorflow:Can save best model only with val_loss available, skipping.\n",
      "11/47 [======>.......................] - ETA: 4:10 - loss: 0.5437 - binary_accuracy: 0.9695WARNING:tensorflow:Can save best model only with val_loss available, skipping.\n",
      "12/47 [======>.......................] - ETA: 4:15 - loss: 0.5435 - binary_accuracy: 0.9701WARNING:tensorflow:Can save best model only with val_loss available, skipping.\n",
      "13/47 [=======>......................] - ETA: 4:16 - loss: 0.5430 - binary_accuracy: 0.9712WARNING:tensorflow:Can save best model only with val_loss available, skipping.\n",
      "14/47 [=======>......................] - ETA: 4:17 - loss: 0.5413 - binary_accuracy: 0.9704WARNING:tensorflow:Can save best model only with val_loss available, skipping.\n",
      "15/47 [========>.....................] - ETA: 4:16 - loss: 0.5418 - binary_accuracy: 0.9714WARNING:tensorflow:Can save best model only with val_loss available, skipping.\n",
      "16/47 [=========>....................] - ETA: 4:14 - loss: 0.5413 - binary_accuracy: 0.9712WARNING:tensorflow:Can save best model only with val_loss available, skipping.\n",
      "17/47 [=========>....................] - ETA: 4:10 - loss: 0.5403 - binary_accuracy: 0.9701WARNING:tensorflow:Can save best model only with val_loss available, skipping.\n",
      "18/47 [==========>...................] - ETA: 4:06 - loss: 0.5402 - binary_accuracy: 0.9696WARNING:tensorflow:Can save best model only with val_loss available, skipping.\n",
      "19/47 [===========>..................] - ETA: 4:01 - loss: 0.5396 - binary_accuracy: 0.9712WARNING:tensorflow:Can save best model only with val_loss available, skipping.\n",
      "20/47 [===========>..................] - ETA: 3:55 - loss: 0.5392 - binary_accuracy: 0.9703WARNING:tensorflow:Can save best model only with val_loss available, skipping.\n",
      "21/47 [============>.................] - ETA: 3:49 - loss: 0.5398 - binary_accuracy: 0.9695WARNING:tensorflow:Can save best model only with val_loss available, skipping.\n",
      "22/47 [=============>................] - ETA: 3:42 - loss: 0.5397 - binary_accuracy: 0.9702WARNING:tensorflow:Can save best model only with val_loss available, skipping.\n",
      "23/47 [=============>................] - ETA: 3:36 - loss: 0.5405 - binary_accuracy: 0.9698WARNING:tensorflow:Can save best model only with val_loss available, skipping.\n",
      "24/47 [==============>...............] - ETA: 3:29 - loss: 0.5420 - binary_accuracy: 0.9701WARNING:tensorflow:Can save best model only with val_loss available, skipping.\n",
      "25/47 [==============>...............] - ETA: 3:21 - loss: 0.5414 - binary_accuracy: 0.9703WARNING:tensorflow:Can save best model only with val_loss available, skipping.\n",
      "26/47 [===============>..............] - ETA: 3:13 - loss: 0.5409 - binary_accuracy: 0.9712WARNING:tensorflow:Can save best model only with val_loss available, skipping.\n",
      "27/47 [================>.............] - ETA: 3:05 - loss: 0.5412 - binary_accuracy: 0.9716WARNING:tensorflow:Can save best model only with val_loss available, skipping.\n",
      "28/47 [================>.............] - ETA: 2:57 - loss: 0.5404 - binary_accuracy: 0.9721WARNING:tensorflow:Can save best model only with val_loss available, skipping.\n",
      "29/47 [=================>............] - ETA: 2:48 - loss: 0.5403 - binary_accuracy: 0.9728WARNING:tensorflow:Can save best model only with val_loss available, skipping.\n",
      "30/47 [==================>...........] - ETA: 2:40 - loss: 0.5402 - binary_accuracy: 0.9734WARNING:tensorflow:Can save best model only with val_loss available, skipping.\n",
      "31/47 [==================>...........] - ETA: 2:31 - loss: 0.5404 - binary_accuracy: 0.9735WARNING:tensorflow:Can save best model only with val_loss available, skipping.\n",
      "32/47 [===================>..........] - ETA: 2:22 - loss: 0.5390 - binary_accuracy: 0.9736WARNING:tensorflow:Can save best model only with val_loss available, skipping.\n",
      "33/47 [====================>.........] - ETA: 2:13 - loss: 0.5388 - binary_accuracy: 0.9740WARNING:tensorflow:Can save best model only with val_loss available, skipping.\n",
      "34/47 [====================>.........] - ETA: 2:04 - loss: 0.5377 - binary_accuracy: 0.9747WARNING:tensorflow:Can save best model only with val_loss available, skipping.\n"
     ]
    },
    {
     "name": "stdout",
     "output_type": "stream",
     "text": [
      "35/47 [=====================>........] - ETA: 1:55 - loss: 0.5378 - binary_accuracy: 0.9748WARNING:tensorflow:Can save best model only with val_loss available, skipping.\n",
      "36/47 [=====================>........] - ETA: 1:46 - loss: 0.5372 - binary_accuracy: 0.9748WARNING:tensorflow:Can save best model only with val_loss available, skipping.\n",
      "37/47 [======================>.......] - ETA: 1:37 - loss: 0.5368 - binary_accuracy: 0.9749WARNING:tensorflow:Can save best model only with val_loss available, skipping.\n",
      "38/47 [=======================>......] - ETA: 1:27 - loss: 0.5365 - binary_accuracy: 0.9751WARNING:tensorflow:Can save best model only with val_loss available, skipping.\n",
      "39/47 [=======================>......] - ETA: 1:18 - loss: 0.5361 - binary_accuracy: 0.9748WARNING:tensorflow:Can save best model only with val_loss available, skipping.\n",
      "40/47 [========================>.....] - ETA: 1:08 - loss: 0.5364 - binary_accuracy: 0.9740WARNING:tensorflow:Can save best model only with val_loss available, skipping.\n",
      "41/47 [=========================>....] - ETA: 59s - loss: 0.5363 - binary_accuracy: 0.9735 WARNING:tensorflow:Can save best model only with val_loss available, skipping.\n",
      "42/47 [=========================>....] - ETA: 49s - loss: 0.5359 - binary_accuracy: 0.9732WARNING:tensorflow:Can save best model only with val_loss available, skipping.\n",
      "43/47 [==========================>...] - ETA: 39s - loss: 0.5365 - binary_accuracy: 0.9733WARNING:tensorflow:Can save best model only with val_loss available, skipping.\n",
      "44/47 [===========================>..] - ETA: 29s - loss: 0.5361 - binary_accuracy: 0.9732WARNING:tensorflow:Can save best model only with val_loss available, skipping.\n",
      "45/47 [===========================>..] - ETA: 19s - loss: 0.5358 - binary_accuracy: 0.9736WARNING:tensorflow:Can save best model only with val_loss available, skipping.\n",
      "46/47 [============================>.] - ETA: 9s - loss: 0.5359 - binary_accuracy: 0.9735 WARNING:tensorflow:Can save best model only with val_loss available, skipping.\n",
      "47/47 [==============================] - 681s 14s/step - loss: 0.5351 - binary_accuracy: 0.9737 - val_loss: 0.5323 - val_binary_accuracy: 0.9820 - lr: 0.0010\n",
      "time taken for model fit: 3531.000298500061\n"
     ]
    }
   ],
   "source": [
    "strategy = tf.distribute.MirroredStrategy()\n",
    "with strategy.scope():\n",
    "    base_model=keras.applications.Xception(weights='imagenet',include_top=False)\n",
    "    base_model.trainable = False\n",
    "    inputs = keras.Input(shape=(299, 299, 3))\n",
    "    # make sure that the base_model is running in inference mode by passing `training=False`. \n",
    "    # This is important for fine-tuning\n",
    "    x = base_model(inputs, training=False)\n",
    "    # add a mini network on top of the base model\n",
    "    # Convert features of shape `base_model.output_shape[1:]` to vectors\n",
    "    x = keras.layers.GlobalAveragePooling2D()(x)\n",
    "    x = keras.layers.Dropout(0.25)(x)\n",
    "    # A Dense classifier with a single unit (binary classification)\n",
    "    outputs = keras.layers.Dense(1, activation='sigmoid')(x)\n",
    "    model = keras.Model(inputs, outputs)\n",
    "    print(model.summary())\n",
    "    model.compile(optimizer=keras.optimizers.Adam(),\n",
    "                  loss=keras.losses.BinaryCrossentropy(from_logits=True),\n",
    "                  metrics=[keras.metrics.BinaryAccuracy()])\n",
    "    ts = time.time()\n",
    "    history = model.fit(train_generator, epochs=4, callbacks = callbacks_list, steps_per_epoch=int(6000/batch_size)+1,\n",
    "              validation_data = validation_generator, validation_steps=int(2000/batch_size)+1)\n",
    "    te = time.time()\n",
    "    print('time taken for model fit:', te-ts)"
   ]
  },
  {
   "cell_type": "code",
   "execution_count": 7,
   "metadata": {},
   "outputs": [
    {
     "name": "stdout",
     "output_type": "stream",
     "text": [
      "{'loss': [0.6374075412750244, 0.5692973732948303, 0.5464963316917419, 0.5351074934005737], 'binary_accuracy': [0.7058333158493042, 0.9183333516120911, 0.9589999914169312, 0.9736666679382324], 'val_loss': [0.5906396508216858, 0.5560582280158997, 0.5409910678863525, 0.5323224067687988], 'val_binary_accuracy': [0.8654999732971191, 0.9495000243186951, 0.9629999995231628, 0.9819999933242798], 'lr': [0.001, 0.001, 0.001, 0.001]}\n"
     ]
    }
   ],
   "source": [
    "print(history.history)"
   ]
  },
  {
   "cell_type": "code",
   "execution_count": 8,
   "metadata": {},
   "outputs": [
    {
     "data": {
      "image/png": "[encoded data removed]",
      "text/plain": [
       "<Figure size 504x288 with 1 Axes>"
      ]
     },
     "metadata": {
      "needs_background": "light"
     },
     "output_type": "display_data"
    }
   ],
   "source": [
    "plt.figure(figsize=(7,4))\n",
    "plt.plot([i+1 for i in range(len(history.history['binary_accuracy']))], history.history['binary_accuracy'],'-o',c='k',lw=2,markersize=9)\n",
    "plt.grid(True)\n",
    "plt.title(\"Training accuracy with epochs\\n\",fontsize=18)\n",
    "plt.xlabel(\"Training epochs\",fontsize=15)\n",
    "plt.ylabel(\"Training accuracy\",fontsize=15)\n",
    "plt.xticks(fontsize=15)\n",
    "plt.yticks(fontsize=15)\n",
    "plt.show()"
   ]
  },
  {
   "cell_type": "code",
   "execution_count": 9,
   "metadata": {},
   "outputs": [
    {
     "data": {
      "image/png": "[encoded data removed]",
      "text/plain": [
       "<Figure size 432x288 with 1 Axes>"
      ]
     },
     "metadata": {
      "needs_background": "light"
     },
     "output_type": "display_data"
    }
   ],
   "source": [
    "plt.plot(history.history['binary_accuracy'])\n",
    "plt.plot(history.history['val_binary_accuracy'])\n",
    "plt.title('model accuracy')\n",
    "plt.ylabel('accuracy')\n",
    "plt.xlabel('epoch')\n",
    "plt.legend(['train', 'test'], loc='upper left')\n",
    "plt.show()\n"
   ]
  },
  {
   "cell_type": "code",
   "execution_count": 10,
   "metadata": {},
   "outputs": [
    {
     "data": {
      "image/png": "[encoded data removed]",
      "text/plain": [
       "<Figure size 432x288 with 1 Axes>"
      ]
     },
     "metadata": {
      "needs_background": "light"
     },
     "output_type": "display_data"
    }
   ],
   "source": [
    "# summarize history for loss\n",
    "plt.plot(history.history['loss'])\n",
    "plt.plot(history.history['val_loss'])\n",
    "plt.title('model loss')\n",
    "plt.ylabel('loss')\n",
    "plt.xlabel('epoch')\n",
    "plt.legend(['train', 'test'], loc='upper left')\n",
    "plt.show()"
   ]
  },
  {
   "cell_type": "code",
   "execution_count": 11,
   "metadata": {},
   "outputs": [],
   "source": [
    "for layer in model.layers:\n",
    "    if layer.name.startswith('block1_') or layer.name.startswith('block2_'):\n",
    "        layer.trainable = False\n",
    "    else:\n",
    "        layer.trainable = True"
   ]
  },
  {
   "cell_type": "code",
   "execution_count": 12,
   "metadata": {},
   "outputs": [
    {
     "name": "stdout",
     "output_type": "stream",
     "text": [
      "Model: \"model\"\n",
      "_________________________________________________________________\n",
      "Layer (type)                 Output Shape              Param #   \n",
      "=================================================================\n",
      "input_2 (InputLayer)         [(None, 299, 299, 3)]     0         \n",
      "_________________________________________________________________\n",
      "xception (Model)             multiple                  20861480  \n",
      "_________________________________________________________________\n",
      "global_average_pooling2d (Gl (None, 2048)              0         \n",
      "_________________________________________________________________\n",
      "dropout (Dropout)            (None, 2048)              0         \n",
      "_________________________________________________________________\n",
      "dense (Dense)                (None, 1)                 2049      \n",
      "=================================================================\n",
      "Total params: 20,863,529\n",
      "Trainable params: 20,809,001\n",
      "Non-trainable params: 54,528\n",
      "_________________________________________________________________\n",
      "None\n",
      "Epoch 1/10\n",
      "INFO:tensorflow:batch_all_reduce: 156 all-reduces with algorithm = nccl, num_packs = 1\n",
      "INFO:tensorflow:batch_all_reduce: 156 all-reduces with algorithm = nccl, num_packs = 1\n",
      "47/47 [==============================] - ETA: 0s - loss: 0.5065 - binary_accuracy: 0.9975 \n",
      "Epoch 00001: val_loss improved from inf to 0.50330, saving model to subset_fine_tune_model_sigmoid.h5\n",
      "47/47 [==============================] - 719s 15s/step - loss: 0.5065 - binary_accuracy: 0.9975 - val_loss: 0.5033 - val_binary_accuracy: 1.0000 - lr: 1.0000e-05\n",
      "Epoch 2/10\n",
      "47/47 [==============================] - ETA: 0s - loss: 0.5022 - binary_accuracy: 1.0000\n",
      "Epoch 00002: val_loss improved from 0.50330 to 0.50324, saving model to subset_fine_tune_model_sigmoid.h5\n",
      "47/47 [==============================] - 679s 14s/step - loss: 0.5022 - binary_accuracy: 1.0000 - val_loss: 0.5032 - val_binary_accuracy: 1.0000 - lr: 1.0000e-05\n",
      "Epoch 3/10\n",
      "47/47 [==============================] - ETA: 0s - loss: 0.5032 - binary_accuracy: 1.0000\n",
      "Epoch 00003: val_loss improved from 0.50324 to 0.50323, saving model to subset_fine_tune_model_sigmoid.h5\n",
      "47/47 [==============================] - 679s 14s/step - loss: 0.5032 - binary_accuracy: 1.0000 - val_loss: 0.5032 - val_binary_accuracy: 1.0000 - lr: 1.0000e-05\n"
     ]
    }
   ],
   "source": [
    "with strategy.scope():\n",
    "    # Unfreeze the base model\n",
    "    base_model.trainable = True\n",
    "    model.compile(optimizer=keras.optimizers.Adam(1e-5),  # Very low learning rate\n",
    "                  loss=keras.losses.BinaryCrossentropy(from_logits=True),\n",
    "                  metrics=[keras.metrics.BinaryAccuracy()])\n",
    "    print(model.summary())\n",
    "    history = model.fit(train_generator, epochs=10, callbacks = callbacks_list, steps_per_epoch=int(6000/batch_size)+1,\n",
    "              validation_data = validation_generator, validation_steps=int(2000/batch_size)+1)"
   ]
  },
  {
   "cell_type": "code",
   "execution_count": 13,
   "metadata": {},
   "outputs": [],
   "source": [
    "model.save('guardrail_xception_subset.h5')"
   ]
  },
  {
   "cell_type": "code",
   "execution_count": 13,
   "metadata": {},
   "outputs": [
    {
     "data": {
      "image/png": "[encoded data removed]",
      "text/plain": [
       "<Figure size 432x288 with 1 Axes>"
      ]
     },
     "metadata": {
      "needs_background": "light"
     },
     "output_type": "display_data"
    }
   ],
   "source": [
    "plt.plot(history.history['binary_accuracy'])\n",
    "plt.plot(history.history['val_binary_accuracy'])\n",
    "plt.title('model accuracy')\n",
    "plt.ylabel('accuracy')\n",
    "plt.xlabel('epoch')\n",
    "plt.legend(['train', 'test'], loc='upper left')\n",
    "plt.show()"
   ]
  },
  {
   "cell_type": "code",
   "execution_count": 14,
   "metadata": {},
   "outputs": [
    {
     "data": {
      "image/png": "[encoded data removed]",
      "text/plain": [
       "<Figure size 432x288 with 1 Axes>"
      ]
     },
     "metadata": {
      "needs_background": "light"
     },
     "output_type": "display_data"
    }
   ],
   "source": [
    "# summarize history for loss\n",
    "plt.plot(history.history['loss'])\n",
    "plt.plot(history.history['val_loss'])\n",
    "plt.title('model loss')\n",
    "plt.ylabel('loss')\n",
    "plt.xlabel('epoch')\n",
    "plt.legend(['train', 'test'], loc='upper left')\n",
    "plt.show()"
   ]
  },
  {
   "cell_type": "code",
   "execution_count": 15,
   "metadata": {},
   "outputs": [
    {
     "name": "stdout",
     "output_type": "stream",
     "text": [
      "16/16 [==============================] - 273s 17s/step\n",
      "[[1.5036390e-08]\n",
      " [8.8317059e-08]\n",
      " [2.5830030e-07]\n",
      " ...\n",
      " [9.9999702e-01]\n",
      " [9.9999237e-01]\n",
      " [9.9996984e-01]]\n",
      "{'guardrail_no': 0, 'guardrail_yes': 1}\n",
      "{'guardrail_no': 0, 'guardrail_yes': 1}\n",
      "{'guardrail_no': 0, 'guardrail_yes': 1}\n"
     ]
    }
   ],
   "source": [
    "predictions = model.predict(test_generator, steps=int(2000/batch_size+1), verbose=1)\n",
    "print(predictions)\n",
    "print(test_generator.class_indices)\n",
    "print(train_generator.class_indices)\n",
    "print(validation_generator.class_indices)"
   ]
  },
  {
   "cell_type": "code",
   "execution_count": 16,
   "metadata": {},
   "outputs": [],
   "source": [
    "y_pred = [1 if y[0] >= 0.5 else 0 for y in predictions]\n"
   ]
  },
  {
   "cell_type": "code",
   "execution_count": 17,
   "metadata": {},
   "outputs": [
    {
     "name": "stdout",
     "output_type": "stream",
     "text": [
      "Confusion Matrix\n",
      "[[1000    0]\n",
      " [   0 1000]]\n",
      "Classification Report\n",
      "               precision    recall  f1-score   support\n",
      "\n",
      " guardrail_no       1.00      1.00      1.00      1000\n",
      "guardrail_yes       1.00      1.00      1.00      1000\n",
      "\n",
      "     accuracy                           1.00      2000\n",
      "    macro avg       1.00      1.00      1.00      2000\n",
      " weighted avg       1.00      1.00      1.00      2000\n",
      "\n"
     ]
    }
   ],
   "source": [
    "print('Confusion Matrix')\n",
    "print(confusion_matrix(test_generator.classes, y_pred))\n",
    "print('Classification Report')\n",
    "target_names = ['guardrail_no', 'guardrail_yes']\n",
    "print(classification_report(test_generator.classes, y_pred, target_names=target_names))"
   ]
  },
  {
   "cell_type": "code",
   "execution_count": 22,
   "metadata": {},
   "outputs": [],
   "source": [
    "tf.keras.backend.clear_session()"
   ]
  },
  {
   "cell_type": "code",
   "execution_count": null,
   "metadata": {},
   "outputs": [],
   "source": []
  }
 ],
 "metadata": {
  "kernelspec": {
   "display_name": "Python [conda env:tf_gpu]",
   "language": "python",
   "name": "conda-env-tf_gpu-py"
  },
  "language_info": {
   "codemirror_mode": {
    "name": "ipython",
    "version": 3
   },
   "file_extension": ".py",
   "mimetype": "text/x-python",
   "name": "python",
   "nbconvert_exporter": "python",
   "pygments_lexer": "ipython3",
   "version": "3.8.5"
  }
 },
 "nbformat": 4,
 "nbformat_minor": 4
}
